{
  "nbformat": 4,
  "nbformat_minor": 0,
  "metadata": {
    "colab": {
      "name": "3ª aula - DS.ipynb",
      "provenance": []
    },
    "kernelspec": {
      "name": "python3",
      "display_name": "Python 3"
    },
    "language_info": {
      "name": "python"
    }
  },
  "cells": [
    {
      "cell_type": "markdown",
      "source": [
        "# Funções Lambda"
      ],
      "metadata": {
        "id": "pOx-huKj6wJR"
      }
    },
    {
      "cell_type": "markdown",
      "source": [
        "## Diferenças entre Funções \"Padrão\" (Normais) e Funções Lambda\n",
        "\n",
        "### Funções padrão\n",
        "\n",
        "* Utilizada muitas vezes\n",
        "* Muitas linhas de código\n",
        "* Somente nomeada\n",
        "* Nenhum ou muitos parâmetros\n",
        "* Nenhum ou muitos retornos\n",
        "\n",
        "### Funções Lambda\n",
        "\n",
        "* Utilizada uma única vez\n",
        "* Definição em uma linha\n",
        "* Nomeada ou Anônima\n",
        "* Nenhum ou muitos parâmetros\n",
        "* Um ou muitos retornos"
      ],
      "metadata": {
        "id": "4lLlz5xc7STz"
      }
    },
    {
      "cell_type": "markdown",
      "source": [
        "## As funções _lambda_ são conhecidas por diversos nomes, como:\n",
        "\n",
        "* _Lambda Expressions_\n",
        "* _Anonymous Functions_\n",
        "* _Lambda Abstractions_\n",
        "* _Lambda Form_\n",
        "* _Functions Literals_\n",
        "\n",
        "As funções _lambda_ são _one line expression_, ou seja, expressões de uma linha, mesmo que separadas em várias linhas diferentes.\n",
        "\n",
        "__CURIOSIDADE__ : as funções _lambda_ são normalmente chamadas de __IIFE__ (_immediately invoked function execution_), ou numa tradução direta para o português __EIFI__ (_execução imediata de função invocada_). "
      ],
      "metadata": {
        "id": "cgiiZBMABRlS"
      }
    },
    {
      "cell_type": "markdown",
      "source": [
        "## Não pode conter outros comandos (statements)"
      ],
      "metadata": {
        "id": "mqDQvWSp3J7z"
      }
    },
    {
      "cell_type": "markdown",
      "source": [
        "Nas funções _lambda_, diferentemente das convencionais, não é possível utilizar comnandos como:\n",
        "\n",
        "* _return_\n",
        "* _pass_\n",
        "* _assert_\n",
        "* _raise_\n",
        "\n",
        "Ao tentar utilizá-los, você receberá um __SYNTAX ERROR__.\n"
      ],
      "metadata": {
        "id": "c8WrQ1wv3j64"
      }
    },
    {
      "cell_type": "code",
      "source": [
        "print(lambda txt: return txt.upper())"
      ],
      "metadata": {
        "id": "SWOTSRLe4RHY",
        "colab": {
          "base_uri": "https://localhost:8080/",
          "height": 132
        },
        "outputId": "7b267bbf-df07-482b-c2bf-26c78b98ea61"
      },
      "execution_count": null,
      "outputs": [
        {
          "output_type": "error",
          "ename": "SyntaxError",
          "evalue": "ignored",
          "traceback": [
            "\u001b[0;36m  File \u001b[0;32m\"<ipython-input-1-f50209d51f86>\"\u001b[0;36m, line \u001b[0;32m1\u001b[0m\n\u001b[0;31m    print(lambda txt: return txt.upper())\u001b[0m\n\u001b[0m                           ^\u001b[0m\n\u001b[0;31mSyntaxError\u001b[0m\u001b[0;31m:\u001b[0m invalid syntax\n"
          ]
        }
      ]
    },
    {
      "cell_type": "markdown",
      "source": [
        "## Passagem de parâmetros"
      ],
      "metadata": {
        "id": "i5ZTGwKM6fpH"
      }
    },
    {
      "cell_type": "markdown",
      "source": [
        "Podemos passar parâmetros para as funções _lambda_ de diferentes formas, assim como fazemos com as funções \"normais\". Veja a seguir:\n",
        "\n",
        "* parâmetros posicionais\n",
        "* parâmetros nomeados\n",
        "* parâmetros em lista de tamanho variável (__*args__)\n",
        "* parâmetros em lista de tamanho variável nomeado (__**kwargs__)"
      ],
      "metadata": {
        "id": "VTZfCqQm6iJF"
      }
    },
    {
      "cell_type": "markdown",
      "source": [
        "## Olhando na prática as funções"
      ],
      "metadata": {
        "id": "7PXoHKAy-DSZ"
      }
    },
    {
      "cell_type": "markdown",
      "source": [
        "### FUNÇÃO PADRÃO\n",
        "\n",
        "```\n",
        "def minha_funcao(numero1, numero2, numero3):\n",
        "  soma = numero1 + numero2 + numero3\n",
        "  return soma\n",
        "```"
      ],
      "metadata": {
        "id": "vfjWS3CCCC4f"
      }
    },
    {
      "cell_type": "markdown",
      "source": [
        "### FUNÇÃO LAMBDA\n",
        "\n",
        "```\n",
        "lambda numero1, numero2, numero3: numero1 + numero2 + numero3\n",
        "```"
      ],
      "metadata": {
        "id": "KuQixXfgCpMv"
      }
    },
    {
      "cell_type": "markdown",
      "source": [
        "#### Outros exemplos\n",
        "\n",
        "```\n",
        "lambda numero1, numero2, numero3 : numero1 ** 2 + numero2 + (numero3 % 2)\n",
        "```\n",
        "\n",
        "```\n",
        "lambda numero : numero % 2 == 0\n",
        "```\n"
      ],
      "metadata": {
        "id": "x5lNVgZTDfRE"
      }
    },
    {
      "cell_type": "markdown",
      "source": [
        "### PARÂMETROS"
      ],
      "metadata": {
        "id": "f74Gh8qU7V9u"
      }
    },
    {
      "cell_type": "markdown",
      "source": [
        "#### Posicionais"
      ],
      "metadata": {
        "id": "RbanuvXO7cpT"
      }
    },
    {
      "cell_type": "code",
      "source": [
        "func_soma = lambda x, y : x + y\n",
        "print(func_soma(3, 4))"
      ],
      "metadata": {
        "colab": {
          "base_uri": "https://localhost:8080/"
        },
        "id": "TpsQDFoT7fgr",
        "outputId": "d83927cf-166f-4c88-dd52-6c8f94220cbe"
      },
      "execution_count": null,
      "outputs": [
        {
          "output_type": "stream",
          "name": "stdout",
          "text": [
            "7\n"
          ]
        }
      ]
    },
    {
      "cell_type": "markdown",
      "source": [
        "#### Nomeados"
      ],
      "metadata": {
        "id": "143Q7ygEGOZ5"
      }
    },
    {
      "cell_type": "code",
      "source": [
        "func_soma = lambda x, y : x + y\n",
        "print(func_soma(x=3, y=4))"
      ],
      "metadata": {
        "colab": {
          "base_uri": "https://localhost:8080/"
        },
        "id": "pW3z5uM2GUkv",
        "outputId": "640e04f7-13ac-4761-f9a4-52ab980a942a"
      },
      "execution_count": null,
      "outputs": [
        {
          "output_type": "stream",
          "name": "stdout",
          "text": [
            "7\n"
          ]
        }
      ]
    },
    {
      "cell_type": "code",
      "source": [
        "func_soma = lambda x, y: x + y\n",
        "print(func_soma(3, y=4))"
      ],
      "metadata": {
        "colab": {
          "base_uri": "https://localhost:8080/"
        },
        "id": "0nJFYsC_Gqoc",
        "outputId": "edeb6743-49e5-4327-9c15-b628fa57005a"
      },
      "execution_count": null,
      "outputs": [
        {
          "output_type": "stream",
          "name": "stdout",
          "text": [
            "7\n"
          ]
        }
      ]
    },
    {
      "cell_type": "markdown",
      "source": [
        "#### Lista de tamanho variável (__*args__)"
      ],
      "metadata": {
        "id": "P25p3ragGlE-"
      }
    },
    {
      "cell_type": "code",
      "source": [
        "func_soma = lambda *args: sum(*args)\n",
        "print(func_soma([46, 44, 25, 11]))"
      ],
      "metadata": {
        "colab": {
          "base_uri": "https://localhost:8080/"
        },
        "id": "uFDXKtoQHPtU",
        "outputId": "f01bac6f-c772-4c31-d75c-20b85032a396"
      },
      "execution_count": 25,
      "outputs": [
        {
          "output_type": "stream",
          "name": "stdout",
          "text": [
            "126\n"
          ]
        }
      ]
    },
    {
      "cell_type": "markdown",
      "source": [
        "#### Lista de tamanho variável (__**kwargs__)"
      ],
      "metadata": {
        "id": "FolOpQFGHjtZ"
      }
    },
    {
      "cell_type": "code",
      "source": [
        "func_soma = lambda **kwargs: sum(kwargs.values())\n",
        "print(func_soma(c=44, g=25, b=11))"
      ],
      "metadata": {
        "colab": {
          "base_uri": "https://localhost:8080/"
        },
        "id": "Jbp5bJhtHpwb",
        "outputId": "bd199809-089d-4047-a209-cbebf155ae69"
      },
      "execution_count": 26,
      "outputs": [
        {
          "output_type": "stream",
          "name": "stdout",
          "text": [
            "80\n"
          ]
        }
      ]
    },
    {
      "cell_type": "markdown",
      "source": [
        "## Mas, utilizar função _lambda_ é uma boa prática?"
      ],
      "metadata": {
        "id": "UY3zAsuf0kuw"
      }
    },
    {
      "cell_type": "markdown",
      "source": [
        "A utlização dessa estrutura divide opiniões na comunidade __Python__ e não vale a pena entrar nessa discussão. \n",
        "\n",
        "As funções _lambda_ serão muito úteis neste módulo, onde as usaremos em conjunto com os métodos `apply`, `map`, `filter` e `reduce`, por exemplo. Veremos os 3 últimos métodos ainda nesta aula.\n",
        "\n",
        "__VALE LEMBRAR__ : mantenha seu código, sempre, de fácil leitura. Se for melhor utilizar uma função normal, FAÇA! Mas, se fizer mais sentido o uso da função _lambda_, não hesite em utilizá-la. \n",
        "\n",
        "__*Pratique para se habituar a sintaxe*__"
      ],
      "metadata": {
        "id": "NrVErfgG0wwl"
      }
    },
    {
      "cell_type": "markdown",
      "source": [
        "Ordenando uma lista de strings pela primeira letra e em ordem crescente"
      ],
      "metadata": {
        "id": "jou7flN6Rvkv"
      }
    },
    {
      "cell_type": "code",
      "source": [
        "nomes = ['Davi', 'Pedro', 'Lucas']\n",
        "\n",
        "nomes.sort()\n",
        "nomes"
      ],
      "metadata": {
        "colab": {
          "base_uri": "https://localhost:8080/"
        },
        "id": "V0h5AASpttui",
        "outputId": "d9b72b82-714c-4835-cb3b-271ef36f3c9a"
      },
      "execution_count": null,
      "outputs": [
        {
          "output_type": "execute_result",
          "data": {
            "text/plain": [
              "['Davi', 'Lucas', 'Pedro']"
            ]
          },
          "metadata": {},
          "execution_count": 2
        }
      ]
    },
    {
      "cell_type": "markdown",
      "source": [
        "Pegando a 2ª letra da primeira string da lista"
      ],
      "metadata": {
        "id": "9g93WPh6R6Fl"
      }
    },
    {
      "cell_type": "code",
      "source": [
        "nomes[0][1]"
      ],
      "metadata": {
        "colab": {
          "base_uri": "https://localhost:8080/",
          "height": 35
        },
        "id": "kG2t2FgouSSR",
        "outputId": "cc976f1c-c017-4a83-be7b-f893267c9496"
      },
      "execution_count": null,
      "outputs": [
        {
          "output_type": "execute_result",
          "data": {
            "text/plain": [
              "'a'"
            ],
            "application/vnd.google.colaboratory.intrinsic+json": {
              "type": "string"
            }
          },
          "metadata": {},
          "execution_count": 4
        }
      ]
    },
    {
      "cell_type": "markdown",
      "source": [
        "Ordenando a lista de strings pela 2ª letra"
      ],
      "metadata": {
        "id": "OHMRT-xBSAZs"
      }
    },
    {
      "cell_type": "code",
      "source": [
        "nomes.sort(key=lambda letra: letra[1])\n",
        "nomes"
      ],
      "metadata": {
        "colab": {
          "base_uri": "https://localhost:8080/"
        },
        "id": "EdNsbGGMuFOH",
        "outputId": "35df993f-b548-49e1-b420-96b6ff0fc449"
      },
      "execution_count": null,
      "outputs": [
        {
          "output_type": "execute_result",
          "data": {
            "text/plain": [
              "['Davi', 'Pedro', 'Lucas']"
            ]
          },
          "metadata": {},
          "execution_count": 5
        }
      ]
    },
    {
      "cell_type": "markdown",
      "source": [
        "## Onde as funções _lambda_ são úteis?"
      ],
      "metadata": {
        "id": "pL685uwUEbQK"
      }
    },
    {
      "cell_type": "markdown",
      "source": [
        "* funções lambda são úteis como pequenas funções de linha única 'descartáveis'\n",
        "* elas geralmente são úteis para permitir cálculos rápidos ou processamento como entrada para outras funções\n",
        "* elas podem tornar o código mais fácil de ler se forem usados adequadamente"
      ],
      "metadata": {
        "id": "GzWwdc2dEjyz"
      }
    },
    {
      "cell_type": "code",
      "source": [
        "# Definição da função padrão\n",
        "def segunda_letra(lista):\n",
        "  return lista[1]"
      ],
      "metadata": {
        "id": "aUtwrbgvJgJw"
      },
      "execution_count": null,
      "outputs": []
    },
    {
      "cell_type": "code",
      "source": [
        "# Exemplo\n",
        "nomes = ['Rafael', 'Amanda', 'Cintha', 'Fernanda', 'Suzy']"
      ],
      "metadata": {
        "id": "DdgesCyuJ5U7"
      },
      "execution_count": null,
      "outputs": []
    },
    {
      "cell_type": "code",
      "source": [
        "nomes.sort(key=segunda_letra)\n",
        "nomes"
      ],
      "metadata": {
        "colab": {
          "base_uri": "https://localhost:8080/"
        },
        "id": "ss-P-YMgKT9N",
        "outputId": "ac96ec27-710e-496e-8903-ecc9c6f6cca9"
      },
      "execution_count": null,
      "outputs": [
        {
          "output_type": "execute_result",
          "data": {
            "text/plain": [
              "['Rafael', 'Fernanda', 'Cintha', 'Amanda', 'Suzy']"
            ]
          },
          "metadata": {},
          "execution_count": 5
        }
      ]
    },
    {
      "cell_type": "code",
      "source": [
        "# Aplicação da função lambda\n",
        "nomes.sort(key=lambda lista: lista[1])\n",
        "nomes"
      ],
      "metadata": {
        "colab": {
          "base_uri": "https://localhost:8080/"
        },
        "id": "zpnGSszqKnX2",
        "outputId": "ad1f8497-4397-4801-85b9-2994c15e13d2"
      },
      "execution_count": null,
      "outputs": [
        {
          "output_type": "execute_result",
          "data": {
            "text/plain": [
              "['Rafael', 'Fernanda', 'Cintha', 'Amanda', 'Suzy']"
            ]
          },
          "metadata": {},
          "execution_count": 8
        }
      ]
    },
    {
      "cell_type": "code",
      "source": [
        "lambda x, y: x + y "
      ],
      "metadata": {
        "colab": {
          "base_uri": "https://localhost:8080/"
        },
        "id": "J6QM4OHozJju",
        "outputId": "42c6bc40-8513-44af-d5a2-c61181c5e290"
      },
      "execution_count": null,
      "outputs": [
        {
          "output_type": "execute_result",
          "data": {
            "text/plain": [
              "<function __main__.<lambda>>"
            ]
          },
          "metadata": {},
          "execution_count": 1
        }
      ]
    },
    {
      "cell_type": "code",
      "source": [
        "(lambda x, y: x + y)(3, 4)"
      ],
      "metadata": {
        "colab": {
          "base_uri": "https://localhost:8080/"
        },
        "id": "UfQ0yHepzV_T",
        "outputId": "c164e236-fb77-4d57-fa99-116f6dfbe505"
      },
      "execution_count": null,
      "outputs": [
        {
          "output_type": "execute_result",
          "data": {
            "text/plain": [
              "7"
            ]
          },
          "metadata": {},
          "execution_count": 2
        }
      ]
    },
    {
      "cell_type": "markdown",
      "source": [
        "Podemos armazenar a função _lambda_ e usá-la em mais de um contexto.\n",
        "\n",
        "Vamos utilizar a expressão acima `lambda x, y: x + y` "
      ],
      "metadata": {
        "id": "ewUflVRiz1hw"
      }
    },
    {
      "cell_type": "code",
      "source": [
        "func_soma = lambda x, y: x + y"
      ],
      "metadata": {
        "id": "w_OkyVOPz0m0"
      },
      "execution_count": null,
      "outputs": []
    },
    {
      "cell_type": "code",
      "source": [
        "func_soma(3, 4)"
      ],
      "metadata": {
        "colab": {
          "base_uri": "https://localhost:8080/"
        },
        "id": "5JYg5b440PGW",
        "outputId": "523b2bf4-de8f-4498-f376-482e2b84a912"
      },
      "execution_count": null,
      "outputs": [
        {
          "output_type": "execute_result",
          "data": {
            "text/plain": [
              "7"
            ]
          },
          "metadata": {},
          "execution_count": 6
        }
      ]
    },
    {
      "cell_type": "code",
      "source": [
        "func_soma(10, 5)"
      ],
      "metadata": {
        "colab": {
          "base_uri": "https://localhost:8080/"
        },
        "id": "nebZivhB0T_V",
        "outputId": "ca3e516e-318a-4d63-8b3c-a91acbc63b6b"
      },
      "execution_count": null,
      "outputs": [
        {
          "output_type": "execute_result",
          "data": {
            "text/plain": [
              "15"
            ]
          },
          "metadata": {},
          "execution_count": 7
        }
      ]
    },
    {
      "cell_type": "code",
      "source": [
        "(lambda : 'Hey!')()"
      ],
      "metadata": {
        "colab": {
          "base_uri": "https://localhost:8080/",
          "height": 35
        },
        "id": "-z8FSbiBzfv6",
        "outputId": "02c3b0bc-e887-41de-bc7c-6efc2d54093d"
      },
      "execution_count": null,
      "outputs": [
        {
          "output_type": "execute_result",
          "data": {
            "text/plain": [
              "'Hey!'"
            ],
            "application/vnd.google.colaboratory.intrinsic+json": {
              "type": "string"
            }
          },
          "metadata": {},
          "execution_count": 3
        }
      ]
    },
    {
      "cell_type": "markdown",
      "source": [
        "### O real poder das expressões _lambda_"
      ],
      "metadata": {
        "id": "nfb6hhtjPKZX"
      }
    },
    {
      "cell_type": "markdown",
      "source": [
        "Em conjunto com outras funções como `map`, `filter` e `reduce`, as expressões _lambda_ mostram toda sua utilidade e valor."
      ],
      "metadata": {
        "id": "BADGCC9KPP3q"
      }
    },
    {
      "cell_type": "markdown",
      "source": [
        "#### map( )"
      ],
      "metadata": {
        "id": "SrmT_RYgPjUU"
      }
    },
    {
      "cell_type": "markdown",
      "source": [
        "A função `map()` serve para aplicarmos uma função a cada elemento de um iterável passado como argumento para esta função.\n",
        "\n",
        "__SINTAXE__\n",
        "\n",
        "`map(funcao_aplicada, iterável)`"
      ],
      "metadata": {
        "id": "QhrIAOLePnYe"
      }
    },
    {
      "cell_type": "code",
      "source": [
        "list(map(lambda x: x + 10, range(10)))"
      ],
      "metadata": {
        "colab": {
          "base_uri": "https://localhost:8080/"
        },
        "id": "hOrvcuGkP_rW",
        "outputId": "69843143-03af-4f06-b6c4-5999bd6dd6ac"
      },
      "execution_count": null,
      "outputs": [
        {
          "output_type": "execute_result",
          "data": {
            "text/plain": [
              "[10, 11, 12, 13, 14, 15, 16, 17, 18, 19]"
            ]
          },
          "metadata": {},
          "execution_count": 21
        }
      ]
    },
    {
      "cell_type": "code",
      "source": [
        "items = [1, 2, 3]\n",
        "dobro = list(map(lambda x: x * 2, items))\n",
        "print(dobro)"
      ],
      "metadata": {
        "colab": {
          "base_uri": "https://localhost:8080/"
        },
        "id": "YHX3SZPpQPnL",
        "outputId": "d98ba883-a5d3-4dad-c4dd-ad49dde0fd6a"
      },
      "execution_count": null,
      "outputs": [
        {
          "output_type": "stream",
          "name": "stdout",
          "text": [
            "[2, 4, 6]\n"
          ]
        }
      ]
    },
    {
      "cell_type": "markdown",
      "source": [
        "__ATENÇÃO!__\n",
        "\n",
        "Fazemos o _casting_ para lista para que seja retornada uma lista, senão a _função map_ retornará um _map object_.\n",
        "\n",
        "Ex: `<map at 0x7efcea12d5d0>`"
      ],
      "metadata": {
        "id": "tT_vYfXiQg89"
      }
    },
    {
      "cell_type": "code",
      "source": [
        "map(lambda x: x * 2, range(10))"
      ],
      "metadata": {
        "colab": {
          "base_uri": "https://localhost:8080/"
        },
        "id": "u-Pn-1yAQy5T",
        "outputId": "47c10a45-9128-458d-8d9a-b8f1333dc634"
      },
      "execution_count": null,
      "outputs": [
        {
          "output_type": "execute_result",
          "data": {
            "text/plain": [
              "<map at 0x7efcea12d5d0>"
            ]
          },
          "metadata": {},
          "execution_count": 23
        }
      ]
    },
    {
      "cell_type": "markdown",
      "source": [
        "#### map( ) com dicionários"
      ],
      "metadata": {
        "id": "5_Ed6BhiQwbl"
      }
    },
    {
      "cell_type": "code",
      "source": [
        "pessoas = [\n",
        "           {\n",
        "               'nome': 'Rafael',\n",
        "               'idade': 46\n",
        "           },\n",
        "           {\n",
        "               'nome': 'Gustavo',\n",
        "               'idade': 25\n",
        "           },\n",
        "           {\n",
        "               'nome': 'Willian',\n",
        "               'idade': 22\n",
        "           }\n",
        "]\n",
        "\n",
        "list(map(lambda menor_30: menor_30['idade'] < 30, pessoas))"
      ],
      "metadata": {
        "colab": {
          "base_uri": "https://localhost:8080/"
        },
        "id": "Ld5wlKT0SF-a",
        "outputId": "8fc28b51-cfdf-4a37-d906-5700f99c5a38"
      },
      "execution_count": null,
      "outputs": [
        {
          "output_type": "execute_result",
          "data": {
            "text/plain": [
              "[False, True, True]"
            ]
          },
          "metadata": {},
          "execution_count": 8
        }
      ]
    },
    {
      "cell_type": "code",
      "source": [
        "# Trabalhando com o If para retornar o nome\n",
        "list(map(lambda menor_30: menor_30['nome'] if menor_30['idade'] < 30 else '', pessoas))"
      ],
      "metadata": {
        "colab": {
          "base_uri": "https://localhost:8080/"
        },
        "id": "rvwqcy6LS_uz",
        "outputId": "22462fda-27f6-4440-d412-6219a1c869cd"
      },
      "execution_count": null,
      "outputs": [
        {
          "output_type": "execute_result",
          "data": {
            "text/plain": [
              "['', 'Gustavo', 'Willian']"
            ]
          },
          "metadata": {},
          "execution_count": 27
        }
      ]
    },
    {
      "cell_type": "markdown",
      "source": [
        "#### filter( )"
      ],
      "metadata": {
        "id": "7VbR3pvfTcSS"
      }
    },
    {
      "cell_type": "markdown",
      "source": [
        "Esta função tem o nome __autoexplicativo__, e basicamente, filtra os elementos passados na função, de acordo com a função passada como primeiro argumento.\n",
        "\n",
        "__SINTAXE__\n",
        "\n",
        "`filter(funcao_aplicada, iterável)`"
      ],
      "metadata": {
        "id": "zPFgVg_uTjQI"
      }
    },
    {
      "cell_type": "markdown",
      "source": [
        "Vamos utilizar o exemplo anterior substituindo `map` por `filter`"
      ],
      "metadata": {
        "id": "pmTx8BriUFg4"
      }
    },
    {
      "cell_type": "code",
      "source": [
        "list(filter(lambda menor_30: menor_30['idade'] < 30, pessoas))"
      ],
      "metadata": {
        "colab": {
          "base_uri": "https://localhost:8080/"
        },
        "id": "TCHIYXRhUN1e",
        "outputId": "b1a461a3-4eab-4878-a88f-f5e5fcb498f3"
      },
      "execution_count": null,
      "outputs": [
        {
          "output_type": "execute_result",
          "data": {
            "text/plain": [
              "[{'idade': 25, 'nome': 'Gustavo'}, {'idade': 22, 'nome': 'Willian'}]"
            ]
          },
          "metadata": {},
          "execution_count": 29
        }
      ]
    },
    {
      "cell_type": "code",
      "source": [
        "list(map(lambda pessoa: pessoa['nome'], list(filter(lambda menor_30: menor_30['idade'] < 30, pessoas))))"
      ],
      "metadata": {
        "colab": {
          "base_uri": "https://localhost:8080/"
        },
        "id": "jkDq4oV1Uh2u",
        "outputId": "bff9f414-781a-484d-f14f-ca94a2281bd7"
      },
      "execution_count": 27,
      "outputs": [
        {
          "output_type": "execute_result",
          "data": {
            "text/plain": [
              "['Gustavo', 'Willian']"
            ]
          },
          "metadata": {},
          "execution_count": 27
        }
      ]
    },
    {
      "cell_type": "code",
      "source": [
        "# Através de list comprehension\n",
        "[x['nome'] for x in pessoas if x['idade'] < 30]"
      ],
      "metadata": {
        "colab": {
          "base_uri": "https://localhost:8080/"
        },
        "id": "FMHTZK5zz94Z",
        "outputId": "80857e02-b404-4dc1-b0c1-7dd80efff1df"
      },
      "execution_count": null,
      "outputs": [
        {
          "output_type": "execute_result",
          "data": {
            "text/plain": [
              "['Gustavo', 'Willian']"
            ]
          },
          "metadata": {},
          "execution_count": 9
        }
      ]
    },
    {
      "cell_type": "code",
      "source": [
        "for x in pessoas:\n",
        "  if x['idade'] < 30:\n",
        "    print(x['nome'])"
      ],
      "metadata": {
        "colab": {
          "base_uri": "https://localhost:8080/"
        },
        "id": "4R1m2rIA0WL5",
        "outputId": "69ac0586-2932-40ae-cf9b-804e519af7e9"
      },
      "execution_count": null,
      "outputs": [
        {
          "output_type": "stream",
          "name": "stdout",
          "text": [
            "Gustavo\n",
            "Willian\n"
          ]
        }
      ]
    },
    {
      "cell_type": "markdown",
      "source": [
        "#### reduce( )"
      ],
      "metadata": {
        "id": "cYo73qBcXqhE"
      }
    },
    {
      "cell_type": "markdown",
      "source": [
        "Esta é uma outra função nativa do __Python__ que aplica uma função em todos os valores passados em forma de lista e retorna apenas um valor\n",
        "\n",
        "__SINTAXE__\n",
        "\n",
        "`reduce(funcao_aplicada, iterável)`\n",
        "\n",
        "__DICA__ \n",
        "\n",
        "_reduce_ faz parte da lib _functools_, ou seja, precisamos importar esta biblioteca antes de utilizá-la. \n",
        "\n",
        "Esta mudança ocorreu, tirando _reduce_ do core do __python__ na versão 3."
      ],
      "metadata": {
        "id": "2JhZTW2CXtzB"
      }
    },
    {
      "cell_type": "code",
      "source": [
        "# Exemplo\n",
        "\n",
        "from functools import reduce\n",
        "\n",
        "soma = reduce(lambda x, y: x + y, [1, 2, 3, 4])\n",
        "\n",
        "print(soma)"
      ],
      "metadata": {
        "colab": {
          "base_uri": "https://localhost:8080/"
        },
        "id": "77UkGvf-Yz6q",
        "outputId": "8c605337-6163-4f88-c6ad-45da1f0ed476"
      },
      "execution_count": null,
      "outputs": [
        {
          "output_type": "stream",
          "name": "stdout",
          "text": [
            "10\n"
          ]
        }
      ]
    },
    {
      "cell_type": "markdown",
      "source": [
        "Determinando maior número de uma lista"
      ],
      "metadata": {
        "id": "1b-zMMOXZUFz"
      }
    },
    {
      "cell_type": "code",
      "source": [
        "numeros = [12, 43, 3224, 3, 123, 483, 999, 13, 44, 1000]\n",
        "maior = reduce(lambda x, y: x if x > y else y, numeros)\n",
        "print(f'Maior número da lista: {maior}')"
      ],
      "metadata": {
        "colab": {
          "base_uri": "https://localhost:8080/"
        },
        "id": "akAFr3sLZbGi",
        "outputId": "cb4c33cd-9087-48f8-8082-f54adfe64a53"
      },
      "execution_count": null,
      "outputs": [
        {
          "output_type": "stream",
          "name": "stdout",
          "text": [
            "Maior número da lista: 3224\n"
          ]
        }
      ]
    },
    {
      "cell_type": "code",
      "source": [
        "max(numeros)"
      ],
      "metadata": {
        "colab": {
          "base_uri": "https://localhost:8080/"
        },
        "id": "wBoim2Ed2T5T",
        "outputId": "ed9c7e0a-268f-4934-d8b2-7d9430af3dde"
      },
      "execution_count": null,
      "outputs": [
        {
          "output_type": "execute_result",
          "data": {
            "text/plain": [
              "3224"
            ]
          },
          "metadata": {},
          "execution_count": 16
        }
      ]
    },
    {
      "cell_type": "markdown",
      "source": [
        "No exemplo acima, a condicional __if__ foi utlizada em conjunto com a função _lambda_.\n",
        "\n",
        "Entendendo o uso do __if__:\n",
        "\n",
        "Depois dos parâmetros x e y, colocamos o resultado que satisfaz a condição do if no lado esquerdo, e após o else o resultado que desejamos se a condição for falsa."
      ],
      "metadata": {
        "id": "Gt7SywYkaBTX"
      }
    },
    {
      "cell_type": "markdown",
      "source": [
        "## Hora de Praticar!"
      ],
      "metadata": {
        "id": "VAFeErrpWRuI"
      }
    },
    {
      "cell_type": "markdown",
      "source": [
        "1. Retornar uma lista de valores pares de 1 à 20\n",
        "2. Retornar uma lista de valores ímpares de 30 à 50\n",
        "3. Retornar todos os números menores que zero do intervalo range(-10, 10)\n",
        "4. Retornar o menor número de uma lista\n",
        "5. Colocar todos os nomes de uma lista de nomes com a primeira letra em maiúscula\n",
        "6. Ordernar a lista de nomes pela 2ª letra de cada nome (ordem crescente)\n",
        "7. Ordernar a lista de nomes pela 2ª letra de cada nome (ordem decrescente)\n",
        "8. Diante de uma lista de números, multiplicar por 10 se o número for par e dividir por 3 se o número for ímpar"
      ],
      "metadata": {
        "id": "iTUhamOIWWz_"
      }
    },
    {
      "cell_type": "markdown",
      "source": [
        "### Gabarito"
      ],
      "metadata": {
        "id": "S9WzCFXiSmzQ"
      }
    },
    {
      "cell_type": "markdown",
      "source": [
        "1. Retornar uma lista de valores pares de 1 à 20"
      ],
      "metadata": {
        "id": "P0ju42QrSo6t"
      }
    },
    {
      "cell_type": "code",
      "source": [
        "numeros = [ num for num in range(1, 21)]\n",
        "list(filter(lambda num: num % 2 == 0, numeros))"
      ],
      "metadata": {
        "colab": {
          "base_uri": "https://localhost:8080/"
        },
        "id": "HAvLFdo2S-C1",
        "outputId": "d6ae6309-f332-4b90-d195-c13e07410b6b"
      },
      "execution_count": 28,
      "outputs": [
        {
          "output_type": "execute_result",
          "data": {
            "text/plain": [
              "[2, 4, 6, 8, 10, 12, 14, 16, 18, 20]"
            ]
          },
          "metadata": {},
          "execution_count": 28
        }
      ]
    },
    {
      "cell_type": "markdown",
      "source": [
        "2. Retornar uma lista de valores ímpares de 30 à 50"
      ],
      "metadata": {
        "id": "02AQbVPqSsPw"
      }
    },
    {
      "cell_type": "code",
      "source": [
        "numeros = [ num for num in range(30, 51)]\n",
        "list(filter(lambda num: num % 2 == 1, numeros))"
      ],
      "metadata": {
        "colab": {
          "base_uri": "https://localhost:8080/"
        },
        "id": "9KGFLndlTMkD",
        "outputId": "fe0baeeb-be6b-48f9-f83d-cedcb74399cb"
      },
      "execution_count": 29,
      "outputs": [
        {
          "output_type": "execute_result",
          "data": {
            "text/plain": [
              "[31, 33, 35, 37, 39, 41, 43, 45, 47, 49]"
            ]
          },
          "metadata": {},
          "execution_count": 29
        }
      ]
    },
    {
      "cell_type": "markdown",
      "source": [
        "3. Retornar todos os números menores que zero do intervalo range(-10, 10)"
      ],
      "metadata": {
        "id": "RIHZS7cZSukI"
      }
    },
    {
      "cell_type": "code",
      "source": [
        "numeros = [ num for num in range(-10, 10)]\n",
        "list(filter(lambda num: num < 0, numeros))"
      ],
      "metadata": {
        "colab": {
          "base_uri": "https://localhost:8080/"
        },
        "id": "qBqvXwp2TbRi",
        "outputId": "14ad30ab-1666-4330-8849-9d5a109d6a74"
      },
      "execution_count": 30,
      "outputs": [
        {
          "output_type": "execute_result",
          "data": {
            "text/plain": [
              "[-10, -9, -8, -7, -6, -5, -4, -3, -2, -1]"
            ]
          },
          "metadata": {},
          "execution_count": 30
        }
      ]
    },
    {
      "cell_type": "markdown",
      "source": [
        "4. Retornar o menor número de uma lista"
      ],
      "metadata": {
        "id": "8jT3-C5qSxTp"
      }
    },
    {
      "cell_type": "code",
      "source": [
        "from functools import reduce\n",
        "\n",
        "numeros = [ num for num in range(1, 11)]\n",
        "reduce(lambda x, y: x if x < y else y, numeros)"
      ],
      "metadata": {
        "colab": {
          "base_uri": "https://localhost:8080/"
        },
        "id": "F-6Tm0CBToe9",
        "outputId": "4d1592fa-5320-49d5-9500-112fc6528a86"
      },
      "execution_count": 33,
      "outputs": [
        {
          "output_type": "execute_result",
          "data": {
            "text/plain": [
              "1"
            ]
          },
          "metadata": {},
          "execution_count": 33
        }
      ]
    },
    {
      "cell_type": "markdown",
      "source": [
        "5. Colocar todos os nomes de uma lista de nomes com a primeira letra em maiúscula"
      ],
      "metadata": {
        "id": "VpIcOb5vS0MT"
      }
    },
    {
      "cell_type": "code",
      "source": [
        "nomes = ['rafael', 'denise', 'beatriz', 'marcus']\n",
        "list(map(lambda nome: nome.title(), nomes))"
      ],
      "metadata": {
        "colab": {
          "base_uri": "https://localhost:8080/"
        },
        "id": "LCwvQ5HjUBUG",
        "outputId": "1a7103ec-825f-4074-82d5-0bcc6c1db138"
      },
      "execution_count": 34,
      "outputs": [
        {
          "output_type": "execute_result",
          "data": {
            "text/plain": [
              "['Rafael', 'Denise', 'Beatriz', 'Marcus']"
            ]
          },
          "metadata": {},
          "execution_count": 34
        }
      ]
    },
    {
      "cell_type": "markdown",
      "source": [
        "6. Ordernar a lista de nomes pela 2ª letra de cada nome (ordem crescente)"
      ],
      "metadata": {
        "id": "9qRx-rt9S2xy"
      }
    },
    {
      "cell_type": "code",
      "source": [
        "nomes = ['rafael', 'denise', 'beatriz', 'marcus']\n",
        "nomes.sort(key=lambda nome: nome[1])\n",
        "nomes"
      ],
      "metadata": {
        "colab": {
          "base_uri": "https://localhost:8080/"
        },
        "id": "VUKQAXNPUZ3z",
        "outputId": "b09fa505-e073-4254-ea62-ea1937696feb"
      },
      "execution_count": 37,
      "outputs": [
        {
          "output_type": "execute_result",
          "data": {
            "text/plain": [
              "['rafael', 'marcus', 'denise', 'beatriz']"
            ]
          },
          "metadata": {},
          "execution_count": 37
        }
      ]
    },
    {
      "cell_type": "markdown",
      "source": [
        "7. Ordernar a lista de nomes pela 2ª letra de cada nome (ordem decrescente)"
      ],
      "metadata": {
        "id": "NFmn6V0HS6Rw"
      }
    },
    {
      "cell_type": "code",
      "source": [
        "nomes = ['rafael', 'denise', 'beatriz', 'marcus']\n",
        "nomes.sort(key=lambda nome: nome[1], reverse=True)\n",
        "nomes"
      ],
      "metadata": {
        "colab": {
          "base_uri": "https://localhost:8080/"
        },
        "id": "GvGUHBgbUyNy",
        "outputId": "74f9664e-62de-41fb-d28a-0b074a81d7d4"
      },
      "execution_count": 38,
      "outputs": [
        {
          "output_type": "execute_result",
          "data": {
            "text/plain": [
              "['denise', 'beatriz', 'rafael', 'marcus']"
            ]
          },
          "metadata": {},
          "execution_count": 38
        }
      ]
    },
    {
      "cell_type": "markdown",
      "source": [
        "8. Diante de uma lista de números, multiplicar por 10 se o número for par e dividir por 3 se o número for ímpar"
      ],
      "metadata": {
        "id": "pptmkQxYS7_f"
      }
    },
    {
      "cell_type": "code",
      "source": [
        "# Utilizei a função round() para limitar à duas casas decimais\n",
        "\n",
        "numeros = [ num for num in range(1, 11)]\n",
        "list(map(lambda num: num * 10 if num % 2 == 0 else round(num / 3, 2), numeros))"
      ],
      "metadata": {
        "colab": {
          "base_uri": "https://localhost:8080/"
        },
        "id": "VRoIJ2v0U6Ql",
        "outputId": "3dda6d7f-2469-4aeb-f77b-c018baf7ec96"
      },
      "execution_count": 40,
      "outputs": [
        {
          "output_type": "execute_result",
          "data": {
            "text/plain": [
              "[0.33, 20, 1.0, 40, 1.67, 60, 2.33, 80, 3.0, 100]"
            ]
          },
          "metadata": {},
          "execution_count": 40
        }
      ]
    }
  ]
}