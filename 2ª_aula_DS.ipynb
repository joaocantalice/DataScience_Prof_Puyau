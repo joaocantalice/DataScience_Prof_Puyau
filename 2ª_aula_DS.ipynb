{
  "cells": [
    {
      "cell_type": "markdown",
      "metadata": {
        "id": "Ay2mGvhNPhMz"
      },
      "source": [
        "# Introdução à biblioteca __PANDAS__"
      ]
    },
    {
      "cell_type": "markdown",
      "metadata": {
        "id": "yePuS1qlb_Lm"
      },
      "source": [
        "## Sobre Pandas"
      ]
    },
    {
      "cell_type": "markdown",
      "metadata": {
        "id": "1UoAzc2CQbe9"
      },
      "source": [
        "É uma biblioteca para manipulação de dados, sendo a mais utilizada hoje em dia.\n",
        "\n",
        "Criada em 2008, dentro do __AQR__ _Capital Management_ (empresa americana global de gestão de fundos de investimentos), por _Wes McKinney_ - programador americano fissurado em matemática e manipulação de dados.\n",
        "\n",
        "Em 2009, __PANDAS__ se tornou _Open Source_ sob a licença __BSD__.\n",
        "\n",
        "__PANDAS__ é um acrônimo para _PANEL DATA_, dataset de estruturas multidimensionais.\n",
        "\n",
        "*__Curiosidade__* : A biblioteca foi escrita em C, Python e em Cython. Este último é um superset - _super conjunto_ - com a carinha e as características do python, mas com a performance do C."
      ]
    },
    {
      "cell_type": "markdown",
      "metadata": {
        "id": "DgwDmLpNUvlR"
      },
      "source": [
        "O __PANDAS__ é adequado para taballhar com muitos tipos de dados:\n",
        "\n",
        "* dados tabulares como uma tabela SQL ou uma planilha excel\n",
        "* dados de série temporal ordenados ou não\n",
        "* dados de matriz\n",
        "* ou qualquer outro conjunto de dados observacionais ou estatísticos\n",
        "\n",
        "__Principais extensões suportadas__ :\n",
        "\n",
        "* CSV\n",
        "* XLSX\n",
        "* PARQUET\n",
        "* HTML\n",
        "* HDFS\n",
        "* JSON\n",
        "* SQL\n",
        "\n",
        "__DICA__ : você pode ler esses dados de diversas fontes, como por exemplo, de arquivos CSV, planilhas Excel, tabelas SQL de arquivos HTML, arquivos JSON entre outros.\n",
        "\n",
        "Depois de trabalhar com os dados, você pode __exportar__ para essas mesmas extensões. Isso é muito fácil e intuitivo com o pandas.\n"
      ]
    },
    {
      "cell_type": "markdown",
      "metadata": {
        "id": "IRdroQvRY_gd"
      },
      "source": [
        "__PANDAS__ possui duas estruturas de dados primários que são as __Series__ e os __DataFrames__.\n",
        "\n",
        "As __Series__ são um array _uni-dimensional_ de dados homogêneos.\n",
        "\n",
        "Já os __DataFrames__ são um array _bi-dimensional_ mutável composto por linhas e colunas. Como se fosse uma __tabela__.\n",
        "\n",
        "__OBS__ : você pode adicionar ou remover linhas e colunas em um _DataFrame_.\n",
        "\n",
        "__DICA__ : pense nessa estrutura de dados como _contâiner_, ou seja, _DataFrame_ é um _container_ para _Series_ enquanto que as _Series_ são um _contâiner_ para dados escalares."
      ]
    },
    {
      "cell_type": "markdown",
      "metadata": {
        "id": "pZNyMrP9OrH3"
      },
      "source": [
        "## Trabalhando com Pandas"
      ]
    },
    {
      "cell_type": "markdown",
      "metadata": {
        "id": "CbqVYQyWcnfv"
      },
      "source": [
        "Para trabalharmos com a manipulação de dados, primeiro devemos instalar a biblioteca __pandas__ através do comando `pip install pandas` dentro do seu ambiente virtual.\n",
        "\n",
        "Se estiver utilizando o Google Colab, execute `!pip install pandas`, mas esta biblioteca já vem instalada.\n",
        "\n",
        "Se estiver utilizando a plataforma de ciência de dados, __Anaconda__, essa biblioteca, também, já vem instalada.\n",
        "\n",
        "Rode o comando a seguir, dentro do Google Colab, `pd.__version__` para ver a versão corrente do __pandas__ que o Colab está utilizando."
      ]
    },
    {
      "cell_type": "markdown",
      "metadata": {
        "id": "0HE8Q7ySfRpm"
      },
      "source": [
        "Uma vez que você possua uma massa de dados e precisa manipular esses dados, é preciso importar o __pandas__.\n",
        "\n",
        "Rode o comando `import pandas as pd`.\n",
        "\n",
        "Após carregar a biblioteca, estamos prontos para ler nossa massa de dados, que nesse caso, será um arquivo CSV com informações sobre o faturameto de vinhos da primeira quinzena de Novembro de uma pousada em Petrópolis.\n",
        "\n",
        "Agora que o __pandas__ foi importado, é hora de carregar o _dataset_ de faturamento através da função __read_csv__."
      ]
    },
    {
      "cell_type": "code",
      "execution_count": null,
      "metadata": {
        "id": "SM65XgThibSf"
      },
      "outputs": [],
      "source": [
        "import pandas as pd"
      ]
    },
    {
      "cell_type": "code",
      "execution_count": null,
      "metadata": {
        "id": "1YKZdV6MiVpc"
      },
      "outputs": [],
      "source": [
        "faturamento = pd.read_csv('caminho_do_arquivo/arquivo.csv')"
      ]
    },
    {
      "cell_type": "markdown",
      "metadata": {
        "id": "B3W0-NABin8J"
      },
      "source": [
        "### Função read_csv( )"
      ]
    },
    {
      "cell_type": "markdown",
      "metadata": {
        "id": "DG1jmw4Bit0P"
      },
      "source": [
        "A função __read_csv( )__ tem muitos parâmetros, mas normalmente utilizamos, alguns com mais frequência:\n",
        "\n",
        "* __sep__ : por padrão é a vírgula, mas podemos especificar outro caractere separador\n",
        "\n",
        "* __skiprows__ : para pular linhas caso o arquivo apresente um cabeçalho\n",
        "\n",
        "* __skipfooter__ : para não carregar linhas do rodapé\n",
        "\n",
        "* __thousands__ : alterar o caractere de milhar. Útil para sistema brasileiro de numeração\n",
        "\n",
        "* __decimal__ : alterar o caractere de decimal. Útil para o sistema brasileiro de numeração\n",
        "\n",
        "* __encoding__ : para reconhecer caracteres especiais e caracteres acentuados\n",
        "\n",
        "__ATENÇÃO__ : colocamos o `r` antes do nome do arquivo a ser lido, pois torna a _string_ como __raw string__ para que o python trate como uma string bruta e, assim, não querer interpretar contra-barras, barras, caracteres de escape e outras coisas.\n",
        "\n",
        "__OBS__ : [clique aqui](https://docs.python.org/3/library/codecs.html#standard-encodings) para ver a lista completa dos encodings"
      ]
    },
    {
      "cell_type": "markdown",
      "metadata": {
        "id": "aOLNH7tnm0o4"
      },
      "source": [
        "## Primeiros passos"
      ]
    },
    {
      "cell_type": "markdown",
      "metadata": {
        "id": "_i5SyDSPm4KE"
      },
      "source": [
        "O 1º passo de toda a análise de dados é entender a base de dados com a qual se está trabalhando.\n",
        "\n",
        "Para isso, utilizamos alguns comandos:\n",
        "\n",
        "* __shape__ : este atributo retorna uma tupla com o número de linhas e colunas do _DataFrame_\n",
        "\n",
        "* __columns__ : este atributo retorna uma array com o nome de todas as colunas do _DataFrame_\n",
        "\n",
        "* __dtypes__ : este atributo retorna um _Pandas Series_ com as colunas e seus respectivos tipos de dados\n",
        "\n",
        "* __info( )__ : este método nos fornece muitas informações do _DataFrame_ em questão como:\n",
        "\n",
        "  * o número total de linhas (registros)\n",
        "  * a quantidade de colunas \n",
        "  * o índice de cada coluna \n",
        "  * o nome das colunas\n",
        "  * a quantidade de valores não nulos\n",
        "  * o tipo de dado de cada coluna\n",
        "\n",
        "* __head( )__ : este método retorna as 5 primeiras linhas do _DataFrame_ por padrão, mas podemos passar um número específico entre parêntesis\n",
        "\n",
        "* __tail( )__ : este método retorna as 5 últimas linhas do _DataFrame_ por padrão, mas podemos passar um número específico entre parêntesis \n",
        "\n",
        "* __describe( )__ : este método apresenta um resumo sobre as __*Series*__ numéricas com as seguintes informações:\n",
        "\n",
        "  * __count__ : mostra quantos registros / linhas há em nosso dataframe\n",
        "  * __mean__ : mostra a média. Vale lembrar que a depender da coluna, esse valor pode não fazer muito sentido\n",
        "  * __std__ : desvio padrão, este tópico é abordado na especialização em _Data Science_\n",
        "  * __min__ : valor mínimo\n",
        "  * quartis : \n",
        "      * __25%__ : 1º quadrante, significa que 25% dos dados estão abaixo de determinada quantidade mostrada em cada _Series_ específica\n",
        "      * __50%__ : 2º quadrante, também conhecido como mediana. Metade dos registros do _DataFrame_ estão abaixo do valor mostrado em cada _Series_ específica\n",
        "      * __75%__ : 3º quadrante, onde 75% dos registros do _DataFrame_ estão abaixo do valor mostrado em cada _Series_ específica\n",
        "  * __max__ : valor máximo\n",
        "\n",
        "__OBS__ : O _dtype_ object é como o pandas reconhece / especifica uma string. Os demais _dtypes_ são bem descritivos e intuitivos."
      ]
    },
    {
      "cell_type": "markdown",
      "metadata": {
        "id": "ULCAPC6bT07j"
      },
      "source": [
        "### Mais aplicações do método _describe( )_"
      ]
    },
    {
      "cell_type": "markdown",
      "metadata": {
        "id": "4c9Dkm-UWFbF"
      },
      "source": [
        "Pode-se utilizar este método em uma _Series_ numérica específica e, também, numa _Series_ de strings, onde as informações retornadas são diferentes das __Series numéricas__.\n",
        "\n",
        "Assim, obtemos os seguintes valores:\n",
        "\n",
        "* __count__ : retorna quantas linhas há na _Series_ específica\n",
        "* __unique__ : retorna os valores únicos encontrados nesta _Series_ específica\n",
        "* __top__ : retorna o \"_termo_\" (string) encontrado com maior \"frequência\". Vale ressaltar que esta informação retornará a primeira ocorrência, caso haja, mais termos com a mesma frequência\n",
        "* __freq__ : retorna o número de ocorrências do \"_termo_\" listado em _top_"
      ]
    },
    {
      "cell_type": "markdown",
      "metadata": {
        "id": "kFmyrGkJBCPK"
      },
      "source": [
        "## Estruturas principais"
      ]
    },
    {
      "cell_type": "markdown",
      "metadata": {
        "id": "FhWKuEjaTDbZ"
      },
      "source": [
        "A biblioteca __PANDAS__ nos apresenta 2 estruturas principais que são as _Series_ e os _DataFrames_."
      ]
    },
    {
      "cell_type": "markdown",
      "metadata": {
        "id": "4__4SMkKCqm5"
      },
      "source": [
        "### Series"
      ]
    },
    {
      "cell_type": "markdown",
      "metadata": {
        "id": "ky9btK8JBGco"
      },
      "source": [
        "A _Series_ são estruturas unidimensionais e se assemelham as listas em Python, mas apresentam algumas coisas a mais.\n",
        "\n",
        "Possuem 4 elementos principais:\n",
        "\n",
        "* __valores__ : podem ser de qualquer tipo. Quando são do mesmo tipo, facilita a transformação interna para _Numpy arrays_ (__mais performance__).Passe como primeiro parâmetro ou como _named parameter_ \"data\"\n",
        "\n",
        "* __índices__ : são parte __essencial__ da biblioteca __PANDAS__. É diferente das listas onde acessamos apenas posicionalmente. Podem ser de qualquer tipo, desde que sejam \"_hasheáveis_\", ou seja, com acesso direto. São obrigatórios e, mesmo se não especificarmos, o __PANDAS__ cria os índices de forma automática, começando sempre em 0\n",
        "\n",
        "  __OBS__ : a diferença para lista é que podemos criar algo que não remeta à posiçao.\n",
        "\n",
        "  __VALE LEMBRAR__ : \n",
        "  \n",
        "   * os índices não precisam ser chaves (não precisam ser únicos)\n",
        "   * podem ter valores iguais para mais de uma linha\n",
        "   * quando buscamos pelo índice, ele traz todos os elementos \"apontados\" por aquele índice (todas as linhas que tem referência daquele índice)\n",
        "\n",
        "* __tipo__ : as _Series possuem um tipo. Elas são derivadas dos tipos do _Numpy_ (dtypes). Se não for definido o tipo, o __PANDAS__ infere a partir dos dados. O tipo pode ser passado na criação pelo parâmetro _dtype_\n",
        "\n",
        "* __nome__ : pode-se especificar um nome. Isto é muito útil nos _DataFrames_, pois cada coluna é uma _Serie_ com um nome\n",
        "\n",
        "\n",
        "Para acessar os valores, índices, nomes e tipos de uma _Series_ (s1, por exemplo) em __PANDAS__, basta chamar seus atributos:\n",
        "\n",
        "* _s1.values_\n",
        "* _s1.index_\n",
        "* _s1.name_\n",
        "* _s1.dtype_\n"
      ]
    },
    {
      "cell_type": "markdown",
      "metadata": {
        "id": "_TK7MWL6HqIP"
      },
      "source": [
        "#### Exemplo 1"
      ]
    },
    {
      "cell_type": "code",
      "execution_count": null,
      "metadata": {
        "id": "6zdAZ0jNH0iN"
      },
      "outputs": [],
      "source": [
        "import pandas as pd"
      ]
    },
    {
      "cell_type": "code",
      "execution_count": null,
      "metadata": {
        "colab": {
          "base_uri": "https://localhost:8080/",
          "height": 156
        },
        "id": "R7yNwQmKCn0g",
        "outputId": "bec86b92-90a1-4768-e366-76142ee6f62a"
      },
      "outputs": [
        {
          "data": {
            "text/plain": [
              "0       Guerra nas Estrelas\n",
              "1    O Império Contra-Ataca\n",
              "2         O Retorno de Jedi\n",
              "dtype: object"
            ]
          },
          "metadata": {},
          "output_type": "display_data"
        },
        {
          "data": {
            "text/plain": [
              "0       Guerra nas Estrelas\n",
              "1    O Império Contra-Ataca\n",
              "2         O Retorno de Jedi\n",
              "dtype: object"
            ]
          },
          "metadata": {},
          "output_type": "display_data"
        }
      ],
      "source": [
        "s1 = pd.Series(['Guerra nas Estrelas', 'O Império Contra-Ataca', 'O Retorno de Jedi'])\n",
        "s2 = pd.Series(data=['Guerra nas Estrelas', 'O Império Contra-Ataca', 'O Retorno de Jedi'])\n",
        "\n",
        "display(s1)\n",
        "\n",
        "display(s2)"
      ]
    },
    {
      "cell_type": "markdown",
      "metadata": {
        "id": "VIQN5ERuHvJz"
      },
      "source": [
        "#### Exemplo 2"
      ]
    },
    {
      "cell_type": "code",
      "execution_count": null,
      "metadata": {
        "colab": {
          "base_uri": "https://localhost:8080/"
        },
        "id": "tg8s5xSlHwuu",
        "outputId": "68a80b07-7e45-478b-b708-3854f8bb5a96"
      },
      "outputs": [
        {
          "data": {
            "text/plain": [
              "1977       Guerra nas Estrelas\n",
              "1980    O Império Contra-Ataca\n",
              "1983         O Retorno de Jedi\n",
              "dtype: object"
            ]
          },
          "execution_count": 7,
          "metadata": {},
          "output_type": "execute_result"
        }
      ],
      "source": [
        "filmes = ['Guerra nas Estrelas', 'O Império Contra-Ataca', 'O Retorno de Jedi']\n",
        "anos = [1977, 1980, 1983]\n",
        "\n",
        "pd.Series(data=filmes, index=anos)"
      ]
    },
    {
      "cell_type": "markdown",
      "metadata": {
        "id": "kXWKsnAzIQgj"
      },
      "source": [
        "#### Exemplo 3"
      ]
    },
    {
      "cell_type": "code",
      "execution_count": null,
      "metadata": {
        "colab": {
          "base_uri": "https://localhost:8080/"
        },
        "id": "SSgpjyj2ISNG",
        "outputId": "90e3c657-f21e-4116-aeed-4ec40b33884b"
      },
      "outputs": [
        {
          "data": {
            "text/plain": [
              "Episódio 4       Guerra nas Estrelas\n",
              "Episódio 5    O Império Contra-Ataca\n",
              "Episódio 6         O Retorno de Jedi\n",
              "dtype: object"
            ]
          },
          "execution_count": 8,
          "metadata": {},
          "output_type": "execute_result"
        }
      ],
      "source": [
        "filmes = ['Guerra nas Estrelas', 'O Império Contra-Ataca', 'O Retorno de Jedi']\n",
        "anos = ['Episódio 4', 'Episódio 5', 'Episódio 6']\n",
        "\n",
        "pd.Series(data=filmes, index=anos)"
      ]
    },
    {
      "cell_type": "markdown",
      "metadata": {
        "id": "CzUVwZnnJkPg"
      },
      "source": [
        "#### Exemplo 4"
      ]
    },
    {
      "cell_type": "code",
      "execution_count": null,
      "metadata": {
        "colab": {
          "base_uri": "https://localhost:8080/"
        },
        "id": "EZXPVNhcJmW-",
        "outputId": "adf3b744-20e3-4078-844f-0d86b5360a61"
      },
      "outputs": [
        {
          "data": {
            "text/plain": [
              "Década de 70       Guerra nas Estrelas\n",
              "Década de 80    O Império Contra-Ataca\n",
              "Década de 80         O Retorno de Jedi\n",
              "dtype: object"
            ]
          },
          "execution_count": 4,
          "metadata": {},
          "output_type": "execute_result"
        }
      ],
      "source": [
        "filmes = ['Guerra nas Estrelas', 'O Império Contra-Ataca', 'O Retorno de Jedi']\n",
        "anos = ['Década de 70', 'Década de 80', 'Década de 80']\n",
        "\n",
        "trilogia = pd.Series(data=filmes, index=anos)\n",
        "trilogia"
      ]
    },
    {
      "cell_type": "code",
      "execution_count": null,
      "metadata": {
        "colab": {
          "base_uri": "https://localhost:8080/"
        },
        "id": "nLTX7mgBJwnd",
        "outputId": "7a3ac4d7-f0fe-4bb3-c797-1699c71b3a10"
      },
      "outputs": [
        {
          "data": {
            "text/plain": [
              "Década de 80    O Império Contra-Ataca\n",
              "Década de 80         O Retorno de Jedi\n",
              "dtype: object"
            ]
          },
          "execution_count": 5,
          "metadata": {},
          "output_type": "execute_result"
        }
      ],
      "source": [
        "trilogia['Década de 80']"
      ]
    },
    {
      "cell_type": "markdown",
      "metadata": {
        "id": "C5zung4SLCUJ"
      },
      "source": [
        "#### Exemplo 5"
      ]
    },
    {
      "cell_type": "code",
      "execution_count": null,
      "metadata": {
        "colab": {
          "base_uri": "https://localhost:8080/"
        },
        "id": "nxvO_zXVJ5UJ",
        "outputId": "f5270a7c-66ff-4e19-ed32-3eaf6a90679c"
      },
      "outputs": [
        {
          "name": "stdout",
          "output_type": "stream",
          "text": [
            "object\n",
            "int64\n",
            "float64\n"
          ]
        }
      ],
      "source": [
        "s1 = pd.Series(['Python', 'Pandas', 'Pentest'])\n",
        "s2 = pd.Series([1, 2, 3])\n",
        "s3 = pd.Series([3.10, 1.4, 2.0])\n",
        "\n",
        "print(s1.dtype)\n",
        "print(s2.dtype)\n",
        "print(s3.dtype)"
      ]
    },
    {
      "cell_type": "markdown",
      "metadata": {
        "id": "hJElcPLxM0BX"
      },
      "source": [
        "#### Exemplo 6"
      ]
    },
    {
      "cell_type": "code",
      "execution_count": null,
      "metadata": {
        "colab": {
          "base_uri": "https://localhost:8080/"
        },
        "id": "OqiXrcsvM2NC",
        "outputId": "84898465-bd81-4c2a-82e9-27348f76259c"
      },
      "outputs": [
        {
          "name": "stdout",
          "output_type": "stream",
          "text": [
            "Antes da conversão: int64\n",
            "Depois da conversão: float64\n"
          ]
        }
      ],
      "source": [
        "s1 = pd.Series([1, 2, 3])\n",
        "print(f'Antes da conversão: {s1.dtype}')\n",
        "\n",
        "s1 = s1.astype(float)\n",
        "print(f'Depois da conversão: {s1.dtype}')"
      ]
    },
    {
      "cell_type": "markdown",
      "metadata": {
        "id": "lz73QJgyPftW"
      },
      "source": [
        "#### Exemplo 7"
      ]
    },
    {
      "cell_type": "code",
      "execution_count": null,
      "metadata": {
        "colab": {
          "base_uri": "https://localhost:8080/"
        },
        "id": "k74GCn-8PfXe",
        "outputId": "c3eadf46-2611-4017-8670-cdc6aa1bb654"
      },
      "outputs": [
        {
          "data": {
            "text/plain": [
              "Episódio 4       Guerra nas Estrelas\n",
              "Episódio 5    O Império Contra-Ataca\n",
              "Episódio 6         O Retorno de Jedi\n",
              "Name: Trilogia Clássica, dtype: object"
            ]
          },
          "execution_count": 29,
          "metadata": {},
          "output_type": "execute_result"
        }
      ],
      "source": [
        "filmes = ['Guerra nas Estrelas', 'O Império Contra-Ataca', 'O Retorno de Jedi']\n",
        "anos = ['Episódio 4', 'Episódio 5', 'Episódio 6']\n",
        "\n",
        "pd.Series(data=filmes, index=anos, name='Trilogia Clássica')"
      ]
    },
    {
      "cell_type": "markdown",
      "metadata": {
        "id": "1jRT2ayeQM1I"
      },
      "source": [
        "#### Exemplo 8"
      ]
    },
    {
      "cell_type": "code",
      "execution_count": null,
      "metadata": {
        "colab": {
          "base_uri": "https://localhost:8080/"
        },
        "id": "18qNG_7YQP2H",
        "outputId": "f3f16c31-1bba-4040-c48f-98f79c57fedd"
      },
      "outputs": [
        {
          "name": "stdout",
          "output_type": "stream",
          "text": [
            "['Guerra nas Estrelas' 'O Império Contra-Ataca' 'O Retorno de Jedi']\n",
            "Int64Index([1977, 1980, 1983], dtype='int64')\n",
            "Trilogia Clássica\n",
            "object\n"
          ]
        }
      ],
      "source": [
        "s1 = pd.Series(\n",
        "    data=['Guerra nas Estrelas', 'O Império Contra-Ataca', 'O Retorno de Jedi'],\n",
        "    name='Trilogia Clássica',\n",
        "    index=[1977, 1980, 1983]\n",
        ")\n",
        "\n",
        "print(s1.values)\n",
        "print(s1.index)\n",
        "print(s1.name)\n",
        "print(s1.dtype)"
      ]
    },
    {
      "cell_type": "markdown",
      "metadata": {
        "id": "_mXnsLpNR-cI"
      },
      "source": [
        "### DataFrames"
      ]
    },
    {
      "cell_type": "markdown",
      "metadata": {
        "id": "7IzmLGBvSBgv"
      },
      "source": [
        "São uma estrutura bidimensional, uma coleção de _Series_.\n",
        "\n",
        "Imagine como se fosse uma planilha Excel, mas com __SUPER PODERES__!\n",
        "\n",
        "Principais características:\n",
        "\n",
        "* __dados__ : são provenientes de uma lista, conjunto, dicionário ou da importação de um dos mais diversos tipos de formatos suportados pelo __PANDAS__.\n",
        "\n",
        "* __índices__ : \n",
        "\n",
        "  * índices não são necessariamente números posicionais\n",
        "  * podem ser de muitos tipos diferentes\n",
        "  * as colunas tem nomes assim como as linhas\n",
        "\n",
        "* __colunas__ : basicamente são os nomes das _Series_ que compõem o _DataFrame_\n",
        "\n",
        "* __tipos__ : se cada coluna é uma _Series_ __PANDAS__, cada coluna pode ter um tipo diferente. Elas são derivadas dos tipos do _Numpy_ (dtypes) ou tipos básicos do python. Se não definirmos o tipo, o __PANDAS__ infere a partir dos dados\n",
        "\n",
        "__DICA__ : para converter um tipo de dados de uma _Series_, basta chamarmos o método _astype_. Se for possível converter os dados, eles serão convertidos.\n",
        "\n",
        "Os valores em um _DataFrame_ podem ser importados ou incluídos na crição. \n",
        "\n",
        "  * __Importação__ : suporta uma grande variedade de formatos\n",
        "\n",
        "    * pd.read_csv('dataset.csv')\n",
        "    * pd.read_excel('dataset.xlsx', sheet_name='Sheet 1')\n",
        "    * pd.read_parquet('dataset.parquet')\n",
        "    * __OBS__ : e muitos e muitos outros formatos...\n",
        "\n",
        "  * __Inclusão__ : listas, conjuntos ou dicionários\n",
        "\n",
        "Há 2 formas de acessar as colunas de um _DataFrame_:\n",
        "\n",
        "* __df['coluna']__ : sintaxe de dicionário python\n",
        "* __df.coluna__ : sintaxe do paradigma orientação à objetos\n",
        "\n",
        "__OBS__ : Recomenda-se o uso da sintaxe de dicionário, pois pode haver colunas com nomes compostos (com espaços) e a sintaxe do paradigma orientado à objetos não funciona.\n",
        "\n",
        "_OBS_ : é como se pudéssemos criar nomes para as linhas numa planilha excel"
      ]
    },
    {
      "cell_type": "markdown",
      "metadata": {
        "id": "jO-ztc9AUvTt"
      },
      "source": [
        "#### Exemplo 1"
      ]
    },
    {
      "cell_type": "code",
      "execution_count": null,
      "metadata": {
        "id": "omMV_ttSUxAA"
      },
      "outputs": [],
      "source": [
        "import pandas as pd"
      ]
    },
    {
      "cell_type": "code",
      "execution_count": null,
      "metadata": {
        "colab": {
          "base_uri": "https://localhost:8080/",
          "height": 143
        },
        "id": "GicyAoPAU0ii",
        "outputId": "f342f5dc-1f96-44b2-8030-0ad804194eeb"
      },
      "outputs": [
        {
          "data": {
            "text/html": [
              "\n",
              "  <div id=\"df-7ff6ae68-fab8-45c5-87f4-a2a22cc5e4f7\">\n",
              "    <div class=\"colab-df-container\">\n",
              "      <div>\n",
              "<style scoped>\n",
              "    .dataframe tbody tr th:only-of-type {\n",
              "        vertical-align: middle;\n",
              "    }\n",
              "\n",
              "    .dataframe tbody tr th {\n",
              "        vertical-align: top;\n",
              "    }\n",
              "\n",
              "    .dataframe thead th {\n",
              "        text-align: right;\n",
              "    }\n",
              "</style>\n",
              "<table border=\"1\" class=\"dataframe\">\n",
              "  <thead>\n",
              "    <tr style=\"text-align: right;\">\n",
              "      <th></th>\n",
              "      <th>Filmes</th>\n",
              "      <th>Ano de Lançamento</th>\n",
              "    </tr>\n",
              "  </thead>\n",
              "  <tbody>\n",
              "    <tr>\n",
              "      <th>Episódio 4</th>\n",
              "      <td>Guerra nas Estrelas</td>\n",
              "      <td>1977</td>\n",
              "    </tr>\n",
              "    <tr>\n",
              "      <th>Episódio 5</th>\n",
              "      <td>O Império Contra-Ataca</td>\n",
              "      <td>1980</td>\n",
              "    </tr>\n",
              "    <tr>\n",
              "      <th>Episódio 6</th>\n",
              "      <td>O Retorno de Jedi</td>\n",
              "      <td>1983</td>\n",
              "    </tr>\n",
              "  </tbody>\n",
              "</table>\n",
              "</div>\n",
              "      <button class=\"colab-df-convert\" onclick=\"convertToInteractive('df-7ff6ae68-fab8-45c5-87f4-a2a22cc5e4f7')\"\n",
              "              title=\"Convert this dataframe to an interactive table.\"\n",
              "              style=\"display:none;\">\n",
              "        \n",
              "  <svg xmlns=\"http://www.w3.org/2000/svg\" height=\"24px\"viewBox=\"0 0 24 24\"\n",
              "       width=\"24px\">\n",
              "    <path d=\"M0 0h24v24H0V0z\" fill=\"none\"/>\n",
              "    <path d=\"M18.56 5.44l.94 2.06.94-2.06 2.06-.94-2.06-.94-.94-2.06-.94 2.06-2.06.94zm-11 1L8.5 8.5l.94-2.06 2.06-.94-2.06-.94L8.5 2.5l-.94 2.06-2.06.94zm10 10l.94 2.06.94-2.06 2.06-.94-2.06-.94-.94-2.06-.94 2.06-2.06.94z\"/><path d=\"M17.41 7.96l-1.37-1.37c-.4-.4-.92-.59-1.43-.59-.52 0-1.04.2-1.43.59L10.3 9.45l-7.72 7.72c-.78.78-.78 2.05 0 2.83L4 21.41c.39.39.9.59 1.41.59.51 0 1.02-.2 1.41-.59l7.78-7.78 2.81-2.81c.8-.78.8-2.07 0-2.86zM5.41 20L4 18.59l7.72-7.72 1.47 1.35L5.41 20z\"/>\n",
              "  </svg>\n",
              "      </button>\n",
              "      \n",
              "  <style>\n",
              "    .colab-df-container {\n",
              "      display:flex;\n",
              "      flex-wrap:wrap;\n",
              "      gap: 12px;\n",
              "    }\n",
              "\n",
              "    .colab-df-convert {\n",
              "      background-color: #E8F0FE;\n",
              "      border: none;\n",
              "      border-radius: 50%;\n",
              "      cursor: pointer;\n",
              "      display: none;\n",
              "      fill: #1967D2;\n",
              "      height: 32px;\n",
              "      padding: 0 0 0 0;\n",
              "      width: 32px;\n",
              "    }\n",
              "\n",
              "    .colab-df-convert:hover {\n",
              "      background-color: #E2EBFA;\n",
              "      box-shadow: 0px 1px 2px rgba(60, 64, 67, 0.3), 0px 1px 3px 1px rgba(60, 64, 67, 0.15);\n",
              "      fill: #174EA6;\n",
              "    }\n",
              "\n",
              "    [theme=dark] .colab-df-convert {\n",
              "      background-color: #3B4455;\n",
              "      fill: #D2E3FC;\n",
              "    }\n",
              "\n",
              "    [theme=dark] .colab-df-convert:hover {\n",
              "      background-color: #434B5C;\n",
              "      box-shadow: 0px 1px 3px 1px rgba(0, 0, 0, 0.15);\n",
              "      filter: drop-shadow(0px 1px 2px rgba(0, 0, 0, 0.3));\n",
              "      fill: #FFFFFF;\n",
              "    }\n",
              "  </style>\n",
              "\n",
              "      <script>\n",
              "        const buttonEl =\n",
              "          document.querySelector('#df-7ff6ae68-fab8-45c5-87f4-a2a22cc5e4f7 button.colab-df-convert');\n",
              "        buttonEl.style.display =\n",
              "          google.colab.kernel.accessAllowed ? 'block' : 'none';\n",
              "\n",
              "        async function convertToInteractive(key) {\n",
              "          const element = document.querySelector('#df-7ff6ae68-fab8-45c5-87f4-a2a22cc5e4f7');\n",
              "          const dataTable =\n",
              "            await google.colab.kernel.invokeFunction('convertToInteractive',\n",
              "                                                     [key], {});\n",
              "          if (!dataTable) return;\n",
              "\n",
              "          const docLinkHtml = 'Like what you see? Visit the ' +\n",
              "            '<a target=\"_blank\" href=https://colab.research.google.com/notebooks/data_table.ipynb>data table notebook</a>'\n",
              "            + ' to learn more about interactive tables.';\n",
              "          element.innerHTML = '';\n",
              "          dataTable['output_type'] = 'display_data';\n",
              "          await google.colab.output.renderOutput(dataTable, element);\n",
              "          const docLink = document.createElement('div');\n",
              "          docLink.innerHTML = docLinkHtml;\n",
              "          element.appendChild(docLink);\n",
              "        }\n",
              "      </script>\n",
              "    </div>\n",
              "  </div>\n",
              "  "
            ],
            "text/plain": [
              "                            Filmes  Ano de Lançamento\n",
              "Episódio 4     Guerra nas Estrelas               1977\n",
              "Episódio 5  O Império Contra-Ataca               1980\n",
              "Episódio 6       O Retorno de Jedi               1983"
            ]
          },
          "execution_count": 31,
          "metadata": {},
          "output_type": "execute_result"
        }
      ],
      "source": [
        "df = pd.DataFrame(\n",
        "    data=[\n",
        "          ['Guerra nas Estrelas', 1977],\n",
        "          ['O Império Contra-Ataca', 1980],\n",
        "          ['O Retorno de Jedi', 1983]\n",
        "    ],\n",
        "    index=['Episódio 4', 'Episódio 5', 'Episódio 6'],\n",
        "    columns=['Filmes', 'Ano de Lançamento']\n",
        ")\n",
        "\n",
        "df"
      ]
    },
    {
      "cell_type": "markdown",
      "metadata": {
        "id": "Y8Tmm5OeXJ03"
      },
      "source": [
        "#### Exemplo 2"
      ]
    },
    {
      "cell_type": "markdown",
      "metadata": {
        "id": "RKQqSz3EXaFI"
      },
      "source": [
        "##### Lista"
      ]
    },
    {
      "cell_type": "code",
      "execution_count": null,
      "metadata": {
        "colab": {
          "base_uri": "https://localhost:8080/",
          "height": 175
        },
        "id": "Ee1nH67kXMRQ",
        "outputId": "57dc8fa0-7d75-4e04-c739-95b8e1860271"
      },
      "outputs": [
        {
          "data": {
            "text/html": [
              "\n",
              "  <div id=\"df-db72e5bb-9536-4762-be86-04be341706b4\">\n",
              "    <div class=\"colab-df-container\">\n",
              "      <div>\n",
              "<style scoped>\n",
              "    .dataframe tbody tr th:only-of-type {\n",
              "        vertical-align: middle;\n",
              "    }\n",
              "\n",
              "    .dataframe tbody tr th {\n",
              "        vertical-align: top;\n",
              "    }\n",
              "\n",
              "    .dataframe thead th {\n",
              "        text-align: right;\n",
              "    }\n",
              "</style>\n",
              "<table border=\"1\" class=\"dataframe\">\n",
              "  <thead>\n",
              "    <tr style=\"text-align: right;\">\n",
              "      <th></th>\n",
              "      <th>0</th>\n",
              "    </tr>\n",
              "  </thead>\n",
              "  <tbody>\n",
              "    <tr>\n",
              "      <th>0</th>\n",
              "      <td>O</td>\n",
              "    </tr>\n",
              "    <tr>\n",
              "      <th>1</th>\n",
              "      <td>Império</td>\n",
              "    </tr>\n",
              "    <tr>\n",
              "      <th>2</th>\n",
              "      <td>Contra</td>\n",
              "    </tr>\n",
              "    <tr>\n",
              "      <th>3</th>\n",
              "      <td>Ataca</td>\n",
              "    </tr>\n",
              "  </tbody>\n",
              "</table>\n",
              "</div>\n",
              "      <button class=\"colab-df-convert\" onclick=\"convertToInteractive('df-db72e5bb-9536-4762-be86-04be341706b4')\"\n",
              "              title=\"Convert this dataframe to an interactive table.\"\n",
              "              style=\"display:none;\">\n",
              "        \n",
              "  <svg xmlns=\"http://www.w3.org/2000/svg\" height=\"24px\"viewBox=\"0 0 24 24\"\n",
              "       width=\"24px\">\n",
              "    <path d=\"M0 0h24v24H0V0z\" fill=\"none\"/>\n",
              "    <path d=\"M18.56 5.44l.94 2.06.94-2.06 2.06-.94-2.06-.94-.94-2.06-.94 2.06-2.06.94zm-11 1L8.5 8.5l.94-2.06 2.06-.94-2.06-.94L8.5 2.5l-.94 2.06-2.06.94zm10 10l.94 2.06.94-2.06 2.06-.94-2.06-.94-.94-2.06-.94 2.06-2.06.94z\"/><path d=\"M17.41 7.96l-1.37-1.37c-.4-.4-.92-.59-1.43-.59-.52 0-1.04.2-1.43.59L10.3 9.45l-7.72 7.72c-.78.78-.78 2.05 0 2.83L4 21.41c.39.39.9.59 1.41.59.51 0 1.02-.2 1.41-.59l7.78-7.78 2.81-2.81c.8-.78.8-2.07 0-2.86zM5.41 20L4 18.59l7.72-7.72 1.47 1.35L5.41 20z\"/>\n",
              "  </svg>\n",
              "      </button>\n",
              "      \n",
              "  <style>\n",
              "    .colab-df-container {\n",
              "      display:flex;\n",
              "      flex-wrap:wrap;\n",
              "      gap: 12px;\n",
              "    }\n",
              "\n",
              "    .colab-df-convert {\n",
              "      background-color: #E8F0FE;\n",
              "      border: none;\n",
              "      border-radius: 50%;\n",
              "      cursor: pointer;\n",
              "      display: none;\n",
              "      fill: #1967D2;\n",
              "      height: 32px;\n",
              "      padding: 0 0 0 0;\n",
              "      width: 32px;\n",
              "    }\n",
              "\n",
              "    .colab-df-convert:hover {\n",
              "      background-color: #E2EBFA;\n",
              "      box-shadow: 0px 1px 2px rgba(60, 64, 67, 0.3), 0px 1px 3px 1px rgba(60, 64, 67, 0.15);\n",
              "      fill: #174EA6;\n",
              "    }\n",
              "\n",
              "    [theme=dark] .colab-df-convert {\n",
              "      background-color: #3B4455;\n",
              "      fill: #D2E3FC;\n",
              "    }\n",
              "\n",
              "    [theme=dark] .colab-df-convert:hover {\n",
              "      background-color: #434B5C;\n",
              "      box-shadow: 0px 1px 3px 1px rgba(0, 0, 0, 0.15);\n",
              "      filter: drop-shadow(0px 1px 2px rgba(0, 0, 0, 0.3));\n",
              "      fill: #FFFFFF;\n",
              "    }\n",
              "  </style>\n",
              "\n",
              "      <script>\n",
              "        const buttonEl =\n",
              "          document.querySelector('#df-db72e5bb-9536-4762-be86-04be341706b4 button.colab-df-convert');\n",
              "        buttonEl.style.display =\n",
              "          google.colab.kernel.accessAllowed ? 'block' : 'none';\n",
              "\n",
              "        async function convertToInteractive(key) {\n",
              "          const element = document.querySelector('#df-db72e5bb-9536-4762-be86-04be341706b4');\n",
              "          const dataTable =\n",
              "            await google.colab.kernel.invokeFunction('convertToInteractive',\n",
              "                                                     [key], {});\n",
              "          if (!dataTable) return;\n",
              "\n",
              "          const docLinkHtml = 'Like what you see? Visit the ' +\n",
              "            '<a target=\"_blank\" href=https://colab.research.google.com/notebooks/data_table.ipynb>data table notebook</a>'\n",
              "            + ' to learn more about interactive tables.';\n",
              "          element.innerHTML = '';\n",
              "          dataTable['output_type'] = 'display_data';\n",
              "          await google.colab.output.renderOutput(dataTable, element);\n",
              "          const docLink = document.createElement('div');\n",
              "          docLink.innerHTML = docLinkHtml;\n",
              "          element.appendChild(docLink);\n",
              "        }\n",
              "      </script>\n",
              "    </div>\n",
              "  </div>\n",
              "  "
            ],
            "text/plain": [
              "         0\n",
              "0        O\n",
              "1  Império\n",
              "2   Contra\n",
              "3    Ataca"
            ]
          },
          "execution_count": 32,
          "metadata": {},
          "output_type": "execute_result"
        }
      ],
      "source": [
        "filme = ['O', 'Império', 'Contra', 'Ataca']\n",
        "pd.DataFrame(filme)"
      ]
    },
    {
      "cell_type": "markdown",
      "metadata": {
        "id": "suLls6IoXd9Y"
      },
      "source": [
        "##### Conjunto"
      ]
    },
    {
      "cell_type": "code",
      "execution_count": null,
      "metadata": {
        "colab": {
          "background_save": true,
          "base_uri": "https://localhost:8080/",
          "height": 175
        },
        "id": "j1Hb0wcrXWsx",
        "outputId": "5551cd50-3c3e-4958-a004-30dc868488a2"
      },
      "outputs": [
        {
          "data": {
            "text/html": [
              "\n",
              "  <div id=\"df-a6f1199d-4ffa-4662-97c5-5054d5b2bfdf\">\n",
              "    <div class=\"colab-df-container\">\n",
              "      <div>\n",
              "<style scoped>\n",
              "    .dataframe tbody tr th:only-of-type {\n",
              "        vertical-align: middle;\n",
              "    }\n",
              "\n",
              "    .dataframe tbody tr th {\n",
              "        vertical-align: top;\n",
              "    }\n",
              "\n",
              "    .dataframe thead th {\n",
              "        text-align: right;\n",
              "    }\n",
              "</style>\n",
              "<table border=\"1\" class=\"dataframe\">\n",
              "  <thead>\n",
              "    <tr style=\"text-align: right;\">\n",
              "      <th></th>\n",
              "      <th>0</th>\n",
              "    </tr>\n",
              "  </thead>\n",
              "  <tbody>\n",
              "    <tr>\n",
              "      <th>0</th>\n",
              "      <td>Ataca</td>\n",
              "    </tr>\n",
              "    <tr>\n",
              "      <th>1</th>\n",
              "      <td>Contra</td>\n",
              "    </tr>\n",
              "    <tr>\n",
              "      <th>2</th>\n",
              "      <td>O</td>\n",
              "    </tr>\n",
              "    <tr>\n",
              "      <th>3</th>\n",
              "      <td>Império</td>\n",
              "    </tr>\n",
              "  </tbody>\n",
              "</table>\n",
              "</div>\n",
              "      <button class=\"colab-df-convert\" onclick=\"convertToInteractive('df-a6f1199d-4ffa-4662-97c5-5054d5b2bfdf')\"\n",
              "              title=\"Convert this dataframe to an interactive table.\"\n",
              "              style=\"display:none;\">\n",
              "        \n",
              "  <svg xmlns=\"http://www.w3.org/2000/svg\" height=\"24px\"viewBox=\"0 0 24 24\"\n",
              "       width=\"24px\">\n",
              "    <path d=\"M0 0h24v24H0V0z\" fill=\"none\"/>\n",
              "    <path d=\"M18.56 5.44l.94 2.06.94-2.06 2.06-.94-2.06-.94-.94-2.06-.94 2.06-2.06.94zm-11 1L8.5 8.5l.94-2.06 2.06-.94-2.06-.94L8.5 2.5l-.94 2.06-2.06.94zm10 10l.94 2.06.94-2.06 2.06-.94-2.06-.94-.94-2.06-.94 2.06-2.06.94z\"/><path d=\"M17.41 7.96l-1.37-1.37c-.4-.4-.92-.59-1.43-.59-.52 0-1.04.2-1.43.59L10.3 9.45l-7.72 7.72c-.78.78-.78 2.05 0 2.83L4 21.41c.39.39.9.59 1.41.59.51 0 1.02-.2 1.41-.59l7.78-7.78 2.81-2.81c.8-.78.8-2.07 0-2.86zM5.41 20L4 18.59l7.72-7.72 1.47 1.35L5.41 20z\"/>\n",
              "  </svg>\n",
              "      </button>\n",
              "      \n",
              "  <style>\n",
              "    .colab-df-container {\n",
              "      display:flex;\n",
              "      flex-wrap:wrap;\n",
              "      gap: 12px;\n",
              "    }\n",
              "\n",
              "    .colab-df-convert {\n",
              "      background-color: #E8F0FE;\n",
              "      border: none;\n",
              "      border-radius: 50%;\n",
              "      cursor: pointer;\n",
              "      display: none;\n",
              "      fill: #1967D2;\n",
              "      height: 32px;\n",
              "      padding: 0 0 0 0;\n",
              "      width: 32px;\n",
              "    }\n",
              "\n",
              "    .colab-df-convert:hover {\n",
              "      background-color: #E2EBFA;\n",
              "      box-shadow: 0px 1px 2px rgba(60, 64, 67, 0.3), 0px 1px 3px 1px rgba(60, 64, 67, 0.15);\n",
              "      fill: #174EA6;\n",
              "    }\n",
              "\n",
              "    [theme=dark] .colab-df-convert {\n",
              "      background-color: #3B4455;\n",
              "      fill: #D2E3FC;\n",
              "    }\n",
              "\n",
              "    [theme=dark] .colab-df-convert:hover {\n",
              "      background-color: #434B5C;\n",
              "      box-shadow: 0px 1px 3px 1px rgba(0, 0, 0, 0.15);\n",
              "      filter: drop-shadow(0px 1px 2px rgba(0, 0, 0, 0.3));\n",
              "      fill: #FFFFFF;\n",
              "    }\n",
              "  </style>\n",
              "\n",
              "      <script>\n",
              "        const buttonEl =\n",
              "          document.querySelector('#df-a6f1199d-4ffa-4662-97c5-5054d5b2bfdf button.colab-df-convert');\n",
              "        buttonEl.style.display =\n",
              "          google.colab.kernel.accessAllowed ? 'block' : 'none';\n",
              "\n",
              "        async function convertToInteractive(key) {\n",
              "          const element = document.querySelector('#df-a6f1199d-4ffa-4662-97c5-5054d5b2bfdf');\n",
              "          const dataTable =\n",
              "            await google.colab.kernel.invokeFunction('convertToInteractive',\n",
              "                                                     [key], {});\n",
              "          if (!dataTable) return;\n",
              "\n",
              "          const docLinkHtml = 'Like what you see? Visit the ' +\n",
              "            '<a target=\"_blank\" href=https://colab.research.google.com/notebooks/data_table.ipynb>data table notebook</a>'\n",
              "            + ' to learn more about interactive tables.';\n",
              "          element.innerHTML = '';\n",
              "          dataTable['output_type'] = 'display_data';\n",
              "          await google.colab.output.renderOutput(dataTable, element);\n",
              "          const docLink = document.createElement('div');\n",
              "          docLink.innerHTML = docLinkHtml;\n",
              "          element.appendChild(docLink);\n",
              "        }\n",
              "      </script>\n",
              "    </div>\n",
              "  </div>\n",
              "  "
            ],
            "text/plain": [
              "         0\n",
              "0    Ataca\n",
              "1   Contra\n",
              "2        O\n",
              "3  Império"
            ]
          },
          "execution_count": null,
          "metadata": {},
          "output_type": "execute_result"
        }
      ],
      "source": [
        "filme = ['O', 'Império', 'Contra', 'Ataca']\n",
        "conjunto = set(filme)\n",
        "pd.DataFrame(conjunto)"
      ]
    },
    {
      "cell_type": "markdown",
      "metadata": {
        "id": "yHYtQcUOXrc5"
      },
      "source": [
        "##### Dicionário"
      ]
    },
    {
      "cell_type": "code",
      "execution_count": null,
      "metadata": {
        "colab": {
          "base_uri": "https://localhost:8080/",
          "height": 143
        },
        "id": "iCepTRYSXuFR",
        "outputId": "df5eb687-f41c-49e9-9ddd-c47415c53187"
      },
      "outputs": [
        {
          "data": {
            "text/html": [
              "\n",
              "  <div id=\"df-81cb31d3-fce3-4179-afc2-81cf31724737\">\n",
              "    <div class=\"colab-df-container\">\n",
              "      <div>\n",
              "<style scoped>\n",
              "    .dataframe tbody tr th:only-of-type {\n",
              "        vertical-align: middle;\n",
              "    }\n",
              "\n",
              "    .dataframe tbody tr th {\n",
              "        vertical-align: top;\n",
              "    }\n",
              "\n",
              "    .dataframe thead th {\n",
              "        text-align: right;\n",
              "    }\n",
              "</style>\n",
              "<table border=\"1\" class=\"dataframe\">\n",
              "  <thead>\n",
              "    <tr style=\"text-align: right;\">\n",
              "      <th></th>\n",
              "      <th>Filmes</th>\n",
              "      <th>Ano de Lançamento</th>\n",
              "    </tr>\n",
              "  </thead>\n",
              "  <tbody>\n",
              "    <tr>\n",
              "      <th>0</th>\n",
              "      <td>Guerra nas Estrelas</td>\n",
              "      <td>1977</td>\n",
              "    </tr>\n",
              "    <tr>\n",
              "      <th>1</th>\n",
              "      <td>O Império Contra-Ataca</td>\n",
              "      <td>1980</td>\n",
              "    </tr>\n",
              "    <tr>\n",
              "      <th>2</th>\n",
              "      <td>O Retorno de Jedi</td>\n",
              "      <td>1983</td>\n",
              "    </tr>\n",
              "  </tbody>\n",
              "</table>\n",
              "</div>\n",
              "      <button class=\"colab-df-convert\" onclick=\"convertToInteractive('df-81cb31d3-fce3-4179-afc2-81cf31724737')\"\n",
              "              title=\"Convert this dataframe to an interactive table.\"\n",
              "              style=\"display:none;\">\n",
              "        \n",
              "  <svg xmlns=\"http://www.w3.org/2000/svg\" height=\"24px\"viewBox=\"0 0 24 24\"\n",
              "       width=\"24px\">\n",
              "    <path d=\"M0 0h24v24H0V0z\" fill=\"none\"/>\n",
              "    <path d=\"M18.56 5.44l.94 2.06.94-2.06 2.06-.94-2.06-.94-.94-2.06-.94 2.06-2.06.94zm-11 1L8.5 8.5l.94-2.06 2.06-.94-2.06-.94L8.5 2.5l-.94 2.06-2.06.94zm10 10l.94 2.06.94-2.06 2.06-.94-2.06-.94-.94-2.06-.94 2.06-2.06.94z\"/><path d=\"M17.41 7.96l-1.37-1.37c-.4-.4-.92-.59-1.43-.59-.52 0-1.04.2-1.43.59L10.3 9.45l-7.72 7.72c-.78.78-.78 2.05 0 2.83L4 21.41c.39.39.9.59 1.41.59.51 0 1.02-.2 1.41-.59l7.78-7.78 2.81-2.81c.8-.78.8-2.07 0-2.86zM5.41 20L4 18.59l7.72-7.72 1.47 1.35L5.41 20z\"/>\n",
              "  </svg>\n",
              "      </button>\n",
              "      \n",
              "  <style>\n",
              "    .colab-df-container {\n",
              "      display:flex;\n",
              "      flex-wrap:wrap;\n",
              "      gap: 12px;\n",
              "    }\n",
              "\n",
              "    .colab-df-convert {\n",
              "      background-color: #E8F0FE;\n",
              "      border: none;\n",
              "      border-radius: 50%;\n",
              "      cursor: pointer;\n",
              "      display: none;\n",
              "      fill: #1967D2;\n",
              "      height: 32px;\n",
              "      padding: 0 0 0 0;\n",
              "      width: 32px;\n",
              "    }\n",
              "\n",
              "    .colab-df-convert:hover {\n",
              "      background-color: #E2EBFA;\n",
              "      box-shadow: 0px 1px 2px rgba(60, 64, 67, 0.3), 0px 1px 3px 1px rgba(60, 64, 67, 0.15);\n",
              "      fill: #174EA6;\n",
              "    }\n",
              "\n",
              "    [theme=dark] .colab-df-convert {\n",
              "      background-color: #3B4455;\n",
              "      fill: #D2E3FC;\n",
              "    }\n",
              "\n",
              "    [theme=dark] .colab-df-convert:hover {\n",
              "      background-color: #434B5C;\n",
              "      box-shadow: 0px 1px 3px 1px rgba(0, 0, 0, 0.15);\n",
              "      filter: drop-shadow(0px 1px 2px rgba(0, 0, 0, 0.3));\n",
              "      fill: #FFFFFF;\n",
              "    }\n",
              "  </style>\n",
              "\n",
              "      <script>\n",
              "        const buttonEl =\n",
              "          document.querySelector('#df-81cb31d3-fce3-4179-afc2-81cf31724737 button.colab-df-convert');\n",
              "        buttonEl.style.display =\n",
              "          google.colab.kernel.accessAllowed ? 'block' : 'none';\n",
              "\n",
              "        async function convertToInteractive(key) {\n",
              "          const element = document.querySelector('#df-81cb31d3-fce3-4179-afc2-81cf31724737');\n",
              "          const dataTable =\n",
              "            await google.colab.kernel.invokeFunction('convertToInteractive',\n",
              "                                                     [key], {});\n",
              "          if (!dataTable) return;\n",
              "\n",
              "          const docLinkHtml = 'Like what you see? Visit the ' +\n",
              "            '<a target=\"_blank\" href=https://colab.research.google.com/notebooks/data_table.ipynb>data table notebook</a>'\n",
              "            + ' to learn more about interactive tables.';\n",
              "          element.innerHTML = '';\n",
              "          dataTable['output_type'] = 'display_data';\n",
              "          await google.colab.output.renderOutput(dataTable, element);\n",
              "          const docLink = document.createElement('div');\n",
              "          docLink.innerHTML = docLinkHtml;\n",
              "          element.appendChild(docLink);\n",
              "        }\n",
              "      </script>\n",
              "    </div>\n",
              "  </div>\n",
              "  "
            ],
            "text/plain": [
              "                   Filmes  Ano de Lançamento\n",
              "0     Guerra nas Estrelas               1977\n",
              "1  O Império Contra-Ataca               1980\n",
              "2       O Retorno de Jedi               1983"
            ]
          },
          "execution_count": 34,
          "metadata": {},
          "output_type": "execute_result"
        }
      ],
      "source": [
        "dicionario = {\n",
        "    'Filmes': ['Guerra nas Estrelas', 'O Império Contra-Ataca', 'O Retorno de Jedi'],\n",
        "    'Ano de Lançamento': [1977, 1980, 1983]\n",
        "}\n",
        "\n",
        "df = pd.DataFrame(dicionario)\n",
        "df"
      ]
    },
    {
      "cell_type": "markdown",
      "metadata": {
        "id": "JqxvcJuhaiF0"
      },
      "source": [
        "#### Exemplo 3"
      ]
    },
    {
      "cell_type": "code",
      "execution_count": null,
      "metadata": {
        "colab": {
          "base_uri": "https://localhost:8080/",
          "height": 206
        },
        "id": "fmuwti3PamLy",
        "outputId": "c737d748-8ab4-457f-a610-49dae7502cb2"
      },
      "outputs": [
        {
          "data": {
            "text/html": [
              "\n",
              "  <div id=\"df-89d3095a-ced2-420a-a006-8d0c5f8c7859\">\n",
              "    <div class=\"colab-df-container\">\n",
              "      <div>\n",
              "<style scoped>\n",
              "    .dataframe tbody tr th:only-of-type {\n",
              "        vertical-align: middle;\n",
              "    }\n",
              "\n",
              "    .dataframe tbody tr th {\n",
              "        vertical-align: top;\n",
              "    }\n",
              "\n",
              "    .dataframe thead th {\n",
              "        text-align: right;\n",
              "    }\n",
              "</style>\n",
              "<table border=\"1\" class=\"dataframe\">\n",
              "  <thead>\n",
              "    <tr style=\"text-align: right;\">\n",
              "      <th></th>\n",
              "      <th>data</th>\n",
              "      <th>estilo</th>\n",
              "      <th>quantidade de garrafas</th>\n",
              "      <th>preço da garrafa</th>\n",
              "      <th>total</th>\n",
              "    </tr>\n",
              "  </thead>\n",
              "  <tbody>\n",
              "    <tr>\n",
              "      <th>0</th>\n",
              "      <td>2021-11-01</td>\n",
              "      <td>tinto</td>\n",
              "      <td>7</td>\n",
              "      <td>150.00</td>\n",
              "      <td>1050.00</td>\n",
              "    </tr>\n",
              "    <tr>\n",
              "      <th>1</th>\n",
              "      <td>2021-11-01</td>\n",
              "      <td>branco</td>\n",
              "      <td>4</td>\n",
              "      <td>75.00</td>\n",
              "      <td>300.00</td>\n",
              "    </tr>\n",
              "    <tr>\n",
              "      <th>2</th>\n",
              "      <td>2021-11-01</td>\n",
              "      <td>espumante</td>\n",
              "      <td>5</td>\n",
              "      <td>75.89</td>\n",
              "      <td>379.45</td>\n",
              "    </tr>\n",
              "    <tr>\n",
              "      <th>3</th>\n",
              "      <td>2021-11-02</td>\n",
              "      <td>tinto</td>\n",
              "      <td>3</td>\n",
              "      <td>150.00</td>\n",
              "      <td>450.00</td>\n",
              "    </tr>\n",
              "    <tr>\n",
              "      <th>4</th>\n",
              "      <td>2021-11-02</td>\n",
              "      <td>branco</td>\n",
              "      <td>2</td>\n",
              "      <td>75.00</td>\n",
              "      <td>150.00</td>\n",
              "    </tr>\n",
              "  </tbody>\n",
              "</table>\n",
              "</div>\n",
              "      <button class=\"colab-df-convert\" onclick=\"convertToInteractive('df-89d3095a-ced2-420a-a006-8d0c5f8c7859')\"\n",
              "              title=\"Convert this dataframe to an interactive table.\"\n",
              "              style=\"display:none;\">\n",
              "        \n",
              "  <svg xmlns=\"http://www.w3.org/2000/svg\" height=\"24px\"viewBox=\"0 0 24 24\"\n",
              "       width=\"24px\">\n",
              "    <path d=\"M0 0h24v24H0V0z\" fill=\"none\"/>\n",
              "    <path d=\"M18.56 5.44l.94 2.06.94-2.06 2.06-.94-2.06-.94-.94-2.06-.94 2.06-2.06.94zm-11 1L8.5 8.5l.94-2.06 2.06-.94-2.06-.94L8.5 2.5l-.94 2.06-2.06.94zm10 10l.94 2.06.94-2.06 2.06-.94-2.06-.94-.94-2.06-.94 2.06-2.06.94z\"/><path d=\"M17.41 7.96l-1.37-1.37c-.4-.4-.92-.59-1.43-.59-.52 0-1.04.2-1.43.59L10.3 9.45l-7.72 7.72c-.78.78-.78 2.05 0 2.83L4 21.41c.39.39.9.59 1.41.59.51 0 1.02-.2 1.41-.59l7.78-7.78 2.81-2.81c.8-.78.8-2.07 0-2.86zM5.41 20L4 18.59l7.72-7.72 1.47 1.35L5.41 20z\"/>\n",
              "  </svg>\n",
              "      </button>\n",
              "      \n",
              "  <style>\n",
              "    .colab-df-container {\n",
              "      display:flex;\n",
              "      flex-wrap:wrap;\n",
              "      gap: 12px;\n",
              "    }\n",
              "\n",
              "    .colab-df-convert {\n",
              "      background-color: #E8F0FE;\n",
              "      border: none;\n",
              "      border-radius: 50%;\n",
              "      cursor: pointer;\n",
              "      display: none;\n",
              "      fill: #1967D2;\n",
              "      height: 32px;\n",
              "      padding: 0 0 0 0;\n",
              "      width: 32px;\n",
              "    }\n",
              "\n",
              "    .colab-df-convert:hover {\n",
              "      background-color: #E2EBFA;\n",
              "      box-shadow: 0px 1px 2px rgba(60, 64, 67, 0.3), 0px 1px 3px 1px rgba(60, 64, 67, 0.15);\n",
              "      fill: #174EA6;\n",
              "    }\n",
              "\n",
              "    [theme=dark] .colab-df-convert {\n",
              "      background-color: #3B4455;\n",
              "      fill: #D2E3FC;\n",
              "    }\n",
              "\n",
              "    [theme=dark] .colab-df-convert:hover {\n",
              "      background-color: #434B5C;\n",
              "      box-shadow: 0px 1px 3px 1px rgba(0, 0, 0, 0.15);\n",
              "      filter: drop-shadow(0px 1px 2px rgba(0, 0, 0, 0.3));\n",
              "      fill: #FFFFFF;\n",
              "    }\n",
              "  </style>\n",
              "\n",
              "      <script>\n",
              "        const buttonEl =\n",
              "          document.querySelector('#df-89d3095a-ced2-420a-a006-8d0c5f8c7859 button.colab-df-convert');\n",
              "        buttonEl.style.display =\n",
              "          google.colab.kernel.accessAllowed ? 'block' : 'none';\n",
              "\n",
              "        async function convertToInteractive(key) {\n",
              "          const element = document.querySelector('#df-89d3095a-ced2-420a-a006-8d0c5f8c7859');\n",
              "          const dataTable =\n",
              "            await google.colab.kernel.invokeFunction('convertToInteractive',\n",
              "                                                     [key], {});\n",
              "          if (!dataTable) return;\n",
              "\n",
              "          const docLinkHtml = 'Like what you see? Visit the ' +\n",
              "            '<a target=\"_blank\" href=https://colab.research.google.com/notebooks/data_table.ipynb>data table notebook</a>'\n",
              "            + ' to learn more about interactive tables.';\n",
              "          element.innerHTML = '';\n",
              "          dataTable['output_type'] = 'display_data';\n",
              "          await google.colab.output.renderOutput(dataTable, element);\n",
              "          const docLink = document.createElement('div');\n",
              "          docLink.innerHTML = docLinkHtml;\n",
              "          element.appendChild(docLink);\n",
              "        }\n",
              "      </script>\n",
              "    </div>\n",
              "  </div>\n",
              "  "
            ],
            "text/plain": [
              "         data     estilo  quantidade de garrafas  preço da garrafa    total\n",
              "0  2021-11-01      tinto                       7            150.00  1050.00\n",
              "1  2021-11-01     branco                       4             75.00   300.00\n",
              "2  2021-11-01  espumante                       5             75.89   379.45\n",
              "3  2021-11-02      tinto                       3            150.00   450.00\n",
              "4  2021-11-02     branco                       2             75.00   150.00"
            ]
          },
          "execution_count": 36,
          "metadata": {},
          "output_type": "execute_result"
        }
      ],
      "source": [
        "dataset = r'https://raw.githubusercontent.com/rafaelpuyau/infinity_school/main/ds/datasets/faturamento_quinzena_nov2021.csv'\n",
        "df = pd.read_csv(dataset, sep=';')\n",
        "df.head()"
      ]
    },
    {
      "cell_type": "markdown",
      "metadata": {
        "id": "MQod4egDeEFz"
      },
      "source": [
        "#### Exemplo 4"
      ]
    },
    {
      "cell_type": "markdown",
      "metadata": {
        "id": "hGiREryEeLiO"
      },
      "source": [
        "Acesse os atributos do _DataFrame_\n",
        "\n",
        "* _df.shape_\n",
        "* _df.values_\n",
        "* _df.index_\n",
        "* _df.columns_\n",
        "* _df.dtypes_"
      ]
    },
    {
      "cell_type": "code",
      "execution_count": null,
      "metadata": {
        "colab": {
          "base_uri": "https://localhost:8080/"
        },
        "id": "qceRj2Slgd4B",
        "outputId": "3acaa11a-5b3f-468e-b02d-9b6b6163350c"
      },
      "outputs": [
        {
          "data": {
            "text/plain": [
              "(45, 5)"
            ]
          },
          "execution_count": 47,
          "metadata": {},
          "output_type": "execute_result"
        }
      ],
      "source": [
        "df.shape"
      ]
    },
    {
      "cell_type": "code",
      "execution_count": null,
      "metadata": {
        "colab": {
          "base_uri": "https://localhost:8080/"
        },
        "id": "1NOXVjyBbk-3",
        "outputId": "b4d8a378-5a41-457c-eec1-7f261bdd7675"
      },
      "outputs": [
        {
          "data": {
            "text/plain": [
              "array([['2021-11-01', 'tinto', 7, 150.0, 1050.0],\n",
              "       ['2021-11-01', 'branco', 4, 75.0, 300.0],\n",
              "       ['2021-11-01', 'espumante', 5, 75.89, 379.45]], dtype=object)"
            ]
          },
          "execution_count": 45,
          "metadata": {},
          "output_type": "execute_result"
        }
      ],
      "source": [
        "# Slice pegando os 3 primeiros valores do dataframe\n",
        "df.values[:3]"
      ]
    },
    {
      "cell_type": "code",
      "execution_count": null,
      "metadata": {
        "colab": {
          "base_uri": "https://localhost:8080/"
        },
        "id": "ug_102fsft8_",
        "outputId": "146fdaf6-245c-47d3-f0e9-8c1d37ff7f4b"
      },
      "outputs": [
        {
          "data": {
            "text/plain": [
              "RangeIndex(start=0, stop=45, step=1)"
            ]
          },
          "execution_count": 43,
          "metadata": {},
          "output_type": "execute_result"
        }
      ],
      "source": [
        "df.index"
      ]
    },
    {
      "cell_type": "code",
      "execution_count": null,
      "metadata": {
        "colab": {
          "base_uri": "https://localhost:8080/"
        },
        "id": "BwwfkIuogFwf",
        "outputId": "1a26c4f4-6dbe-4284-8fbf-521956676a7d"
      },
      "outputs": [
        {
          "data": {
            "text/plain": [
              "Index(['data', 'estilo', 'quantidade de garrafas', 'preço da garrafa',\n",
              "       'total'],\n",
              "      dtype='object')"
            ]
          },
          "execution_count": 46,
          "metadata": {},
          "output_type": "execute_result"
        }
      ],
      "source": [
        "df.columns"
      ]
    },
    {
      "cell_type": "code",
      "execution_count": null,
      "metadata": {
        "colab": {
          "base_uri": "https://localhost:8080/"
        },
        "id": "DIKexOAugijB",
        "outputId": "cec0d235-accc-4bbc-810c-eeac5dca37c9"
      },
      "outputs": [
        {
          "data": {
            "text/plain": [
              "data                       object\n",
              "estilo                     object\n",
              "quantidade de garrafas      int64\n",
              "preço da garrafa          float64\n",
              "total                     float64\n",
              "dtype: object"
            ]
          },
          "execution_count": 48,
          "metadata": {},
          "output_type": "execute_result"
        }
      ],
      "source": [
        "df.dtypes"
      ]
    },
    {
      "cell_type": "markdown",
      "metadata": {
        "id": "AuYt1Id7jBrg"
      },
      "source": [
        "#### Exemplo 5"
      ]
    },
    {
      "cell_type": "markdown",
      "metadata": {
        "id": "JwdL4y3ujGBi"
      },
      "source": [
        "Colunas de um _DataFrame_ nada mais são que _Series_ __PANDAS__"
      ]
    },
    {
      "cell_type": "code",
      "execution_count": null,
      "metadata": {
        "colab": {
          "base_uri": "https://localhost:8080/"
        },
        "id": "hURfno7ZjXT7",
        "outputId": "43f5002e-a6f7-4ce2-b23b-4ee3596aa3b4"
      },
      "outputs": [
        {
          "data": {
            "text/plain": [
              "pandas.core.series.Series"
            ]
          },
          "execution_count": 50,
          "metadata": {},
          "output_type": "execute_result"
        }
      ],
      "source": [
        "type(df['estilo'])"
      ]
    },
    {
      "cell_type": "markdown",
      "source": [
        "## Hora de praticar!"
      ],
      "metadata": {
        "id": "8bW73TViQSEM"
      }
    },
    {
      "cell_type": "markdown",
      "source": [
        "Agora que já aprendeu como criar _Series_ e _DataFrames_, é a sua vez de praticar tudo que aprendeu nesta aula.\n",
        "\n",
        "1. Crie _Series_ com parâmetro posicional e depois com parâmetro nomeado (named parameter)\n",
        "2. Adicione index a sua _Series_ (mude o index para valores inteiros, depois para string e veja o resultado)\n",
        "3. Adicione um nome à sua _Series_\n",
        "4. Crie mais de uma! (__Lembre-se : É hora de praticar!__)\n",
        "5. Crie uma _Series_ com um tipo de dado e depois mude para outro tipo usando o método astype( )\n",
        "6. Crie um _DataFrame_ de 2 colunas usando um dicionário\n",
        "7. Recrie este mesmo _DataFrame_ através de lista e com index e columns\n",
        "8. Veja todos os exemplos e refaça-os utilizando seus próprios exemplos e valores\n",
        "\n",
        "__OBS__ : Crie o hábito de utilizar as teclas de atalho do _Google Colab_ para inserir novas células antes e depois da autal e, também, para alternar entre código e texto (markdown)"
      ],
      "metadata": {
        "id": "4YJ7v3iuQjDP"
      }
    },
    {
      "cell_type": "markdown",
      "source": [
        "# Terminamos por hoje!"
      ],
      "metadata": {
        "id": "bciQxxd5QN2c"
      }
    }
  ],
  "metadata": {
    "colab": {
      "name": "2ª aula - DS.ipynb",
      "provenance": []
    },
    "kernelspec": {
      "display_name": "Python 3",
      "name": "python3"
    },
    "language_info": {
      "name": "python"
    }
  },
  "nbformat": 4,
  "nbformat_minor": 0
}